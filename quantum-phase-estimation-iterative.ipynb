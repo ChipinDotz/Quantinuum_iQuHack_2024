{
 "cells": [
  {
   "cell_type": "markdown",
   "id": "94764098-eb90-480e-bd71-7e7e85fec8f7",
   "metadata": {},
   "source": [
    "# Initial QPE Circuit Bayesian version."
   ]
  },
  {
   "cell_type": "code",
   "execution_count": 19,
   "id": "514b4adc-ed9c-4e9d-ad7f-895939397dcc",
   "metadata": {},
   "outputs": [],
   "source": [
    "# Importing libraries.\n",
    "from pytket.circuit import Circuit\n",
    "from pytket.circuit import CircBox\n",
    "from pytket.circuit import QControlBox\n",
    "from pytket.circuit.display import render_circuit_jupyter"
   ]
  },
  {
   "cell_type": "code",
   "execution_count": 20,
   "id": "8d09e85c-d1c9-461b-ae5e-6f437c914e65",
   "metadata": {},
   "outputs": [],
   "source": [
    "from math import log2\n",
    "from pytket.passes import DecomposeBoxes\n",
    "import numpy as np"
   ]
  },
  {
   "cell_type": "code",
   "execution_count": 79,
   "id": "76b3db9d-f82a-43b1-afed-ebd0f95f93fa",
   "metadata": {},
   "outputs": [],
   "source": [
    "from pytket.extensions.nexus import NexusBackend, QuantinuumConfig, Nexus\n",
    "from datetime import datetime\n",
    "from pytket.extensions.qiskit import AerBackend"
   ]
  },
  {
   "cell_type": "code",
   "execution_count": 22,
   "id": "a0c21c7c-fe2e-47d9-86f7-165ffe47fb31",
   "metadata": {},
   "outputs": [],
   "source": [
    "class bayesian_qpe_builder():\n",
    "    \n",
    "    def __init__(self, in_qubits, m_qubits, input_angle=1, z_angle=0, m=0):\n",
    "        # Initializing the circuit.\n",
    "        self.bayesian_qpe_circ: Circuit = Circuit()\n",
    "\n",
    "        # Variables.\n",
    "        self.m = m\n",
    "        self.in_qubits = in_qubits\n",
    "        self.m_qubits = m_qubits\n",
    "        self.input_angle = input_angle\n",
    "        self.z_angle = z_angle\n",
    "        \n",
    "        # Creating the initial qubits.\n",
    "        initial_state = Circuit(in_qubits).X(0)  # Initial state of the circuit (|psi>).\n",
    "\n",
    "        # Creating the unitary gate.\n",
    "        unitary_control = Circuit(m_qubits).U1(input_angle, 0)  # Unitary control gate.\n",
    "        unitary_control.name = \"U\"\n",
    "        controlled_u_gate = QControlBox(CircBox(unitary_control), 1)\n",
    "        \n",
    "        # Initiate the measurement qubit.\n",
    "        measurement_register = self.bayesian_qpe_circ.add_q_register(\"|0>\", m_qubits)\n",
    "        # Initiate the initial state.\n",
    "        state_prep_register = self.bayesian_qpe_circ.add_q_register(\"psi\", in_qubits)\n",
    "\n",
    "        # Adding tha Hadamard gate.\n",
    "        for m_qubit in measurement_register:\n",
    "            self.bayesian_qpe_circ.H(m_qubit)\n",
    "\n",
    "        # Build the circuit.\n",
    "        self.bayesian_qpe_circ.add_circuit(initial_state, list(state_prep_register))\n",
    "        \n",
    "        # Adding the U-Control gate.\n",
    "        for m_qubit in range(m_qubits):\n",
    "            control_index = m_qubits - m_qubit - 1 # Contrtoling the index of the qubit.\n",
    "            control_qubit = [measurement_register[control_index]] # Controling WHICH qubit.\n",
    "            for _ in range(2**m):\n",
    "                self.bayesian_qpe_circ.add_qcontrolbox(\n",
    "                    controlled_u_gate, control_qubit + list(state_prep_register)\n",
    "                )\n",
    "\n",
    "        # Adding the Rz and Hadamard.\n",
    "        for m_qubit in measurement_register:\n",
    "            self.bayesian_qpe_circ.Rz(z_angle, m_qubit)\n",
    "\n",
    "        for m_qubit in measurement_register:\n",
    "            self.bayesian_qpe_circ.H(m_qubit)\n",
    "\n",
    "    def show_circuit(self):\n",
    "        return render_circuit_jupyter(self.bayesian_qpe_circ)\n",
    "            \n",
    "        "
   ]
  },
  {
   "cell_type": "code",
   "execution_count": 23,
   "id": "0b813d76-2fbb-4491-945e-78caf8e1530e",
   "metadata": {},
   "outputs": [],
   "source": [
    "bayesian_qpe = bayesian_qpe_builder(1, 1, input_angle=0.1, z_angle=0.5, m=0)"
   ]
  },
  {
   "cell_type": "code",
   "execution_count": 24,
   "id": "fd1e18cd-cfb0-491d-8716-1a2c36ddff17",
   "metadata": {},
   "outputs": [
    {
     "data": {
      "text/html": [
       "\n",
       "\n",
       "\n",
       "\n",
       "\n",
       "\n",
       "<div style=\"resize: vertical; overflow: auto; height: 400px; display: block\">\n",
       "    <iframe srcdoc=\"\n",
       "&lt;!DOCTYPE html&gt;\n",
       "&lt;html lang=&#34;en&#34;&gt;\n",
       "&lt;head&gt;\n",
       "    &lt;meta charset=&#34;UTF-8&#34;&gt;\n",
       "    &lt;!-- Download Vue 3--&gt;\n",
       "&lt;script type=&#34;application/javascript&#34; src=&#34;https://cdn.jsdelivr.net/npm/vue@3&#34;&gt;&lt;/script&gt;\n",
       "&lt;!-- Download Circuit Renderer with styles --&gt;\n",
       "&lt;script type=&#34;application/javascript&#34; src=&#34;https://unpkg.com/pytket-circuit-renderer@0.7/dist/pytket-circuit-renderer.umd.js&#34;&gt;&lt;/script&gt;\n",
       "&lt;link rel=&#34;stylesheet&#34; href=&#34;https://unpkg.com/pytket-circuit-renderer@0.7/dist/pytket-circuit-renderer.css&#34;&gt;\n",
       "&lt;/head&gt;\n",
       "&lt;body&gt;\n",
       "\n",
       "\n",
       "\n",
       "    &lt;div id=&#34;circuit-display-vue-container-f17cbeae-3c7b-4271-a1a7-aa850f78de6e&#34; class=&#34;pytket-circuit-display-container&#34;&gt;\n",
       "        &lt;div style=&#34;display: none&#34;&gt;\n",
       "            &lt;div id=&#34;circuit-json-to-display&#34;&gt;{&#34;bits&#34;: [], &#34;commands&#34;: [{&#34;args&#34;: [[&#34;psi&#34;, [0]]], &#34;op&#34;: {&#34;type&#34;: &#34;X&#34;}}, {&#34;args&#34;: [[&#34;|0&gt;&#34;, [0]]], &#34;op&#34;: {&#34;type&#34;: &#34;H&#34;}}, {&#34;args&#34;: [[&#34;|0&gt;&#34;, [0]], [&#34;psi&#34;, [0]]], &#34;op&#34;: {&#34;box&#34;: {&#34;control_state&#34;: 1, &#34;id&#34;: &#34;5ed929a8-2502-4027-b8bb-952216ac87b3&#34;, &#34;n_controls&#34;: 1, &#34;op&#34;: {&#34;box&#34;: {&#34;circuit&#34;: {&#34;bits&#34;: [], &#34;commands&#34;: [{&#34;args&#34;: [[&#34;q&#34;, [0]]], &#34;op&#34;: {&#34;params&#34;: [&#34;0.1&#34;], &#34;type&#34;: &#34;U1&#34;}}], &#34;created_qubits&#34;: [], &#34;discarded_qubits&#34;: [], &#34;implicit_permutation&#34;: [[[&#34;q&#34;, [0]], [&#34;q&#34;, [0]]]], &#34;name&#34;: &#34;U&#34;, &#34;phase&#34;: &#34;0.0&#34;, &#34;qubits&#34;: [[&#34;q&#34;, [0]]]}, &#34;id&#34;: &#34;03e11c30-dfc9-48e3-a865-303fe4638fe5&#34;, &#34;type&#34;: &#34;CircBox&#34;}, &#34;type&#34;: &#34;CircBox&#34;}, &#34;type&#34;: &#34;QControlBox&#34;}, &#34;type&#34;: &#34;QControlBox&#34;}}, {&#34;args&#34;: [[&#34;|0&gt;&#34;, [0]]], &#34;op&#34;: {&#34;params&#34;: [&#34;0.5&#34;], &#34;type&#34;: &#34;Rz&#34;}}, {&#34;args&#34;: [[&#34;|0&gt;&#34;, [0]]], &#34;op&#34;: {&#34;type&#34;: &#34;H&#34;}}], &#34;created_qubits&#34;: [], &#34;discarded_qubits&#34;: [], &#34;implicit_permutation&#34;: [[[&#34;psi&#34;, [0]], [&#34;psi&#34;, [0]]], [[&#34;|0&gt;&#34;, [0]], [&#34;|0&gt;&#34;, [0]]]], &#34;phase&#34;: &#34;0.0&#34;, &#34;qubits&#34;: [[&#34;psi&#34;, [0]], [&#34;|0&gt;&#34;, [0]]]}&lt;/div&gt;\n",
       "        &lt;/div&gt;\n",
       "        &lt;circuit-display-container\n",
       "                :circuit-element-str=&#34;&#39;#circuit-json-to-display&#39;&#34;\n",
       "                :init-render-options=&#34;initRenderOptions&#34;\n",
       "        &gt;&lt;/circuit-display-container&gt;\n",
       "    &lt;/div&gt;\n",
       "    &lt;script type=&#34;application/javascript&#34;&gt;\n",
       "      const circuitRendererUid = &#34;f17cbeae-3c7b-4271-a1a7-aa850f78de6e&#34;;\n",
       "      const displayOptions = JSON.parse(&#39;{}&#39;);\n",
       "\n",
       "      // Script to initialise the circuit renderer app\n",
       "\n",
       "const { createApp } = Vue;\n",
       "const circuitDisplayContainer = window[&#34;pytket-circuit-renderer&#34;].default;\n",
       "// Init variables to be shared between circuit display instances\n",
       "if (typeof window.pytketCircuitDisplays === &#34;undefined&#34;) {\n",
       "    window.pytketCircuitDisplays = {};\n",
       "}\n",
       "// Create the root Vue component\n",
       "const app = createApp({\n",
       "    delimiters: [&#39;[[#&#39;, &#39;#]]&#39;],\n",
       "    components: { circuitDisplayContainer },\n",
       "    data () {\n",
       "      return {\n",
       "        initRenderOptions: displayOptions,\n",
       "      }\n",
       "    }\n",
       "})\n",
       "app.config.unwrapInjectedRef = true;\n",
       "app.mount(&#34;#circuit-display-vue-container-&#34;+circuitRendererUid);\n",
       "window.pytketCircuitDisplays[circuitRendererUid] = app;\n",
       "    &lt;/script&gt;\n",
       "\n",
       "\n",
       "\n",
       "&lt;/body&gt;\n",
       "&lt;/html&gt;\n",
       "\"\n",
       "            width=\"100%\" height=\"100%\"\n",
       "            style=\"border: none; outline: none; overflow: auto\"></iframe>\n",
       "</div>\n",
       "\n"
      ],
      "text/plain": [
       "<IPython.core.display.HTML object>"
      ]
     },
     "metadata": {},
     "output_type": "display_data"
    }
   ],
   "source": [
    "bayesian_qpe.show_circuit()"
   ]
  },
  {
   "cell_type": "code",
   "execution_count": 132,
   "id": "bef51748-5846-4446-b4b2-4417fd66e525",
   "metadata": {},
   "outputs": [],
   "source": [
    "import numpy as np\n",
    "\n",
    "class iterative_phase_estimation():\n",
    "    \"\"\"\n",
    "    A class to perform iterative phase estimation algorithm.\n",
    "    \n",
    "    This class estimates the phase of a quantum state using the iterative phase estimation algorithm. \n",
    "    The algorithm iteratively refines the estimate of the phase by adjusting the measurement basis \n",
    "    and interpreting the measurement outcomes.\n",
    "    \n",
    "    Attributes:\n",
    "        M_0 (int): Initial value of M, controls the precision of the phase estimation.\n",
    "        z_angle_0 (float): Initial z-axis rotation angle.\n",
    "        precision (int): The number of bits of precision for the phase estimate.\n",
    "        backend: The quantum computation backend to run circuits.\n",
    "    \"\"\"\n",
    "\n",
    "    def __init__(self, M_0=None, z_angle_0=None, precision=3, backend=None):\n",
    "        \"\"\"\n",
    "        Initializes the iterative phase estimation algorithm with optional parameters.\n",
    "        \n",
    "        Parameters:\n",
    "            M_0 (int, optional): The starting value of M. Defaults to 2**(precision-1) if None.\n",
    "            z_angle_0 (float, optional): The starting z-axis angle for rotation. Defaults to 0 if None.\n",
    "            precision (int, optional): The desired precision for the phase estimate. Defaults to 3.\n",
    "            backend: The backend to execute quantum circuits. Defaults to None.\n",
    "        \"\"\"\n",
    "        self.M_0 = M_0 if M_0 is not None else 2**(precision-1)\n",
    "        self.z_angle_0 = z_angle_0 if z_angle_0 is not None else 0.\n",
    "        self.M_list = [self.M_0]  # Tracks the M values used in each iteration.\n",
    "        self.angle_list = [self.z_angle_0]  # Tracks the angles used in each iteration.\n",
    "        self.precision = precision\n",
    "        self.phi_list = []  # Tracks the phi values obtained in each iteration.\n",
    "        self.backend = backend\n",
    "\n",
    "    def next_params(self, phi):\n",
    "        \"\"\"\n",
    "        Calculates the next parameters (M and angle) for the iteration based on the latest phi value.\n",
    "        \n",
    "        Parameters:\n",
    "            phi (int): The phi value obtained from the latest quantum measurement.\n",
    "        \n",
    "        Returns:\n",
    "            tuple: A tuple containing the new M value and the new angle for the next iteration.\n",
    "        \"\"\"\n",
    "        last_M, last_angle = self.M_list[-1], self.angle_list[-1]\n",
    "        precision = self.precision\n",
    "        n_updates = len(self.M_list)\n",
    "\n",
    "        new_M = 2**(precision - n_updates - 1)\n",
    "\n",
    "        int_list = 2**(-np.arange(1, precision + 1, 1)[::-1].astype(float))\n",
    "        new_angle = -np.pi * np.sum(int_list[:n_updates] * self.phi_list)\n",
    "\n",
    "        self.M_list.append(new_M)\n",
    "        self.angle_list.append(new_angle)\n",
    "\n",
    "        return new_M, new_angle\n",
    "\n",
    "    def next_phi(self, circuit):\n",
    "        \"\"\"\n",
    "        Processes the given circuit to extract the next phi value.\n",
    "        \n",
    "        This method involves compiling the circuit for the backend, executing it, \n",
    "        and interpreting the result to obtain phi.\n",
    "        \n",
    "        Parameters:\n",
    "            circuit: The quantum circuit to be processed.\n",
    "        \n",
    "        Returns:\n",
    "            int: The new phi value extracted from the circuit execution result.\n",
    "        \"\"\"\n",
    "        # Assuming DecomposeBoxes is a method or class available in the context for circuit processing.\n",
    "        DecomposeBoxes().apply(circuit)\n",
    "        compiled_circ = self.backend.get_compiled_circuit(circuit)\n",
    "        n_shots = 1024  # The number of shots for the circuit execution.\n",
    "        result = self.backend.run_circuit(compiled_circ, n_shots)\n",
    "        #print(result.get_counts().items())\n",
    "        for key, val in result.get_counts().items():\n",
    "            meas = key[1]\n",
    "            if meas==0:\n",
    "                P_0 = val/n_shots\n",
    "                P_1 = 1-P_0\n",
    "            elif meas==1:\n",
    "                P_1 = val/n_shots\n",
    "                P_0 = 1-P_1\n",
    "        #print(P_0, P_1)\n",
    "        new_phi = 0 if P_0 > P_1 else 1\n",
    "\n",
    "        #new_phi = list(result.get_counts())[0][1]  # Assuming specific format for result interpretation.\n",
    "\n",
    "        self.phi_list.append(new_phi)\n",
    "        return new_phi\n",
    "\n",
    "    def get_final_estimate(self):\n",
    "        \"\"\"\n",
    "        Calculates the final phase estimate after all iterations.\n",
    "        \n",
    "        Returns:\n",
    "            float: The final estimate of the phase.\n",
    "        \"\"\"\n",
    "        precision = self.precision\n",
    "        n_updates = len(self.M_list)\n",
    "        int_list = 2**(-np.arange(0, precision, 1)[::-1].astype(float))\n",
    "        final_angle = np.pi * np.sum(int_list[:n_updates] * self.phi_list)\n",
    "        self.final_angle = final_angle\n",
    "        return final_angle\n"
   ]
  },
  {
   "cell_type": "code",
   "execution_count": null,
   "id": "8989f510-eb89-4f13-9925-25cd68122268",
   "metadata": {},
   "outputs": [],
   "source": []
  },
  {
   "cell_type": "code",
   "execution_count": 26,
   "id": "ea8a5586-52a2-4c30-acea-81d39ba81d13",
   "metadata": {},
   "outputs": [
    {
     "name": "stdout",
     "output_type": "stream",
     "text": [
      "\n",
      "New project created: Phase Estimation Tutorial - 2024-02-04 01:22:13.435093\n",
      "\n",
      "Started using project with name: Phase Estimation Tutorial - 2024-02-04 01:22:13.435093\n"
     ]
    }
   ],
   "source": [
    "phase_est_project = Nexus().new_project(f\"Phase Estimation Tutorial - {datetime.now()}\")\n",
    "\n",
    "configuration = QuantinuumConfig(device_name=\"H1-1E\")\n",
    "#, user_group=\"iQuHACK_2024\")\n",
    "\n",
    "backend = NexusBackend(\n",
    "    backend_config= configuration, \n",
    "    project= phase_est_project\n",
    ")"
   ]
  },
  {
   "cell_type": "code",
   "execution_count": 34,
   "id": "1bc0bb02-4a6d-4513-a1b6-63044f1f6d19",
   "metadata": {},
   "outputs": [],
   "source": [
    "backend = AerBackend()"
   ]
  },
  {
   "cell_type": "code",
   "execution_count": 133,
   "id": "b3bcb8ad-0f0c-4092-acbe-a363c01b533e",
   "metadata": {},
   "outputs": [],
   "source": [
    "def get_estimate(input_angle, precision):\n",
    "    IQPE = iterative_phase_estimation(precision=precision, backend=backend)\n",
    "    for i in range(IQPE.precision):\n",
    "        M, angle = IQPE.M_list[-1], IQPE.angle_list[-1]\n",
    "        m = int(log2(M))\n",
    "        #print(M, angle, m)\n",
    "        circuit = bayesian_qpe_builder(1, 1, input_angle=input_angle, z_angle=angle, m=m).bayesian_qpe_circ.measure_all()\n",
    "        phi = IQPE.next_phi(circuit)\n",
    "        #print(IQPE.phi_list)\n",
    "        if i < IQPE.precision - 1:\n",
    "            IQPE.next_params(phi)\n",
    "    return IQPE.get_final_estimate()"
   ]
  },
  {
   "cell_type": "code",
   "execution_count": 56,
   "id": "d25981b9-c8f4-4b5a-a230-d9ae28c3b1ec",
   "metadata": {},
   "outputs": [],
   "source": [
    "import matplotlib.pyplot as plt"
   ]
  },
  {
   "cell_type": "code",
   "execution_count": 61,
   "id": "5ad3623a-8a78-428f-9f3b-c0316252bf14",
   "metadata": {},
   "outputs": [
    {
     "data": {
      "text/plain": [
       "array([1.25663706, 1.25663706, 1.25663706, 1.25663706])"
      ]
     },
     "execution_count": 61,
     "metadata": {},
     "output_type": "execute_result"
    }
   ],
   "source": [
    "input_angle*np.pi*(1+np.zeros_like(precisions))"
   ]
  },
  {
   "cell_type": "code",
   "execution_count": 138,
   "id": "4029ac90-1676-46a2-8bfc-20dc878a26b5",
   "metadata": {},
   "outputs": [
    {
     "data": {
      "image/png": "[encoded data removed]",
      "text/plain": [
       "<Figure size 640x480 with 1 Axes>"
      ]
     },
     "metadata": {},
     "output_type": "display_data"
    }
   ],
   "source": [
    "input_angle = 2**-2 + 2**-4\n",
    "precisions = np.arange(2,10)\n",
    "data = [get_estimate(input_angle, precision) for precision in precisions]\n",
    "plt.plot(precisions, data)\n",
    "plt.plot(precisions, input_angle*np.pi*(1+np.zeros_like(precisions)))\n",
    "plt.show()"
   ]
  },
  {
   "cell_type": "code",
   "execution_count": 139,
   "id": "3dca6cc5-1874-41ab-a178-184d64e96f05",
   "metadata": {},
   "outputs": [
    {
     "data": {
      "image/png": "[encoded data removed]",
      "text/plain": [
       "<Figure size 640x480 with 1 Axes>"
      ]
     },
     "metadata": {},
     "output_type": "display_data"
    }
   ],
   "source": [
    "plt.plot(precisions, np.abs(data-input_angle*np.pi*(1+np.zeros_like(precisions))))\n",
    "plt.yscale('log')\n",
    "plt.show()"
   ]
  },
  {
   "cell_type": "code",
   "execution_count": 54,
   "id": "8c6c0e2d-9896-40c0-b042-61e7ad7d4e92",
   "metadata": {},
   "outputs": [
    {
     "data": {
      "text/plain": [
       "(4.558990901596125, 1.2566370614359172)"
      ]
     },
     "execution_count": 54,
     "metadata": {},
     "output_type": "execute_result"
    }
   ],
   "source": [
    "IQPE.get_final_estimate(), input_angle*np.pi"
   ]
  },
  {
   "cell_type": "markdown",
   "id": "deb8d578-5d80-4761-98de-7c100da5400d",
   "metadata": {},
   "source": [
    "# Bayesian QPE"
   ]
  },
  {
   "cell_type": "code",
   "execution_count": 166,
   "id": "68c45594-373d-4641-ab55-7bbe4eed7cd5",
   "metadata": {},
   "outputs": [],
   "source": [
    "import numpy as np\n",
    "\n",
    "class alpha_phase_estimation():\n",
    "    \"\"\"\n",
    "    A class to perform alpha phase estimation algorithm.\n",
    "    \n",
    "    This class estimates the phase of a quantum state using the iterative phase estimation algorithm. \n",
    "    The algorithm iteratively refines the estimate of the phase by adjusting the measurement basis \n",
    "    and interpreting the measurement outcomes.\n",
    "    \n",
    "    Attributes:\n",
    "        M_0 (int): Initial value of M, controls the precision of the phase estimation.\n",
    "        z_angle_0 (float): Initial z-axis rotation angle.\n",
    "        precision (int): The number of bits of precision for the phase estimate.\n",
    "        backend: The quantum computation backend to run circuits.\n",
    "    \"\"\"\n",
    "\n",
    "    def __init__(self, mu=None, sigma=None, s=100, precision=3, backend=None):\n",
    "        \"\"\"\n",
    "        Initializes the iterative phase estimation algorithm with optional parameters.\n",
    "        \n",
    "        Parameters:\n",
    "            M_0 (int, optional): The starting value of M. Defaults to 2**(precision-1) if None.\n",
    "            z_angle_0 (float, optional): The starting z-axis angle for rotation. Defaults to 0 if None.\n",
    "            precision (int, optional): The desired precision for the phase estimate. Defaults to 3.\n",
    "            backend: The backend to execute quantum circuits. Defaults to None.\n",
    "        \"\"\"\n",
    "        self.mu = mu if mu is not None else 2**(precision-1)\n",
    "        self.sigma = sigma if sigma is not None else 0.\n",
    "        self.mu_list = [self.mu]  # Tracks the M values used in each iteration.\n",
    "        self.sigma_list = [self.sigma]  # Tracks the angles used in each iteration.\n",
    "        self.precision = precision\n",
    "        self.phi_list = []  # Tracks the phi values obtained in each iteration.\n",
    "        self.backend = backend\n",
    "        self.phi_arr = np.linspace(0, 1, 2**precision)\n",
    "        self.pdist = np.exp(-0.5*((self.phi_arr - self.mu) / self.sigma)**2)\n",
    "        self.pdist /= np.sum(self.pdist)\n",
    "        self.s = s\n",
    "\n",
    "    def next_dist(self, phi):\n",
    "        \"\"\"\n",
    "        Calculates the next parameters (M and angle) for the iteration based on the latest phi value.\n",
    "        \n",
    "        Parameters:\n",
    "            phi (int): The phi value obtained from the latest quantum measurement.\n",
    "        \n",
    "        Returns:\n",
    "            tuple: A tuple containing the new M value and the new angle for the next iteration.\n",
    "        \"\"\"\n",
    "        last_M, last_angle = self.mu_list[-1], self.sigma_list[-1]\n",
    "\n",
    "        # Compute the mean\n",
    "        new_mu = np.sum(self.phi_arr * self.pdist)\n",
    "\n",
    "        # Compute the standard deviation\n",
    "        variance = np.sum((self.phi_arr - new_mu)**2 * self.pdist)\n",
    "        new_sigma = np.sqrt(variance)\n",
    "\n",
    "        self.mu_list.append(new_mu)\n",
    "        self.sigma_list.append(new_sigma)\n",
    "\n",
    "        return new_mu, new_sigma\n",
    "\n",
    "    def params(self):\n",
    "        mu, sigma = self.mu_list[-1], self.sigma_list[-1]\n",
    "        M = int(1.25/sigma)\n",
    "        angle = mu-sigma\n",
    "        return M, angle\n",
    "\n",
    "    def next_phi(self, circuit):\n",
    "        \"\"\"\n",
    "        Processes the given circuit to extract the next phi value.\n",
    "        \n",
    "        This method involves compiling the circuit for the backend, executing it, \n",
    "        and interpreting the result to obtain phi.\n",
    "        \n",
    "        Parameters:\n",
    "            circuit: The quantum circuit to be processed.\n",
    "        \n",
    "        Returns:\n",
    "            int: The new phi value extracted from the circuit execution result.\n",
    "        \"\"\"\n",
    "        # Assuming DecomposeBoxes is a method or class available in the context for circuit processing.\n",
    "        DecomposeBoxes().apply(circuit)\n",
    "        compiled_circ = self.backend.get_compiled_circuit(circuit)\n",
    "        n_shots = self.s  # The number of shots for the circuit execution.\n",
    "        result = self.backend.run_circuit(compiled_circ, n_shots)\n",
    "\n",
    "        for key, val in result.get_counts().items():\n",
    "            meas = key[1]\n",
    "            if meas==0:\n",
    "                P_0 = val/n_shots\n",
    "                P_1 = 1-P_0\n",
    "            elif meas==1:\n",
    "                P_1 = val/n_shots\n",
    "                P_0 = 1-P_1\n",
    "        #print(P_0, P_1)\n",
    "        #new_phi = list(result.get_counts())[0][1]  # Assuming specific format for result interpretation.\n",
    "        self.prob_theo(P_0)\n",
    "\n",
    "    def prob_theo(self, P_0):\n",
    "        last_M, last_angle = self.params()\n",
    "        factor = 2*P_0 - 1\n",
    "        print(last_angle)\n",
    "        likelihood = (1 + factor*np.cos(last_M * (last_angle - self.phi_arr))) / 2\n",
    "        self.pdist *= likelihood\n",
    "        self.pdist /= np.sum(self.pdist)\n",
    "\n",
    "    def get_final_estimate(self):\n",
    "        \"\"\"\n",
    "        Calculates the final phase estimate after all iterations.\n",
    "        \n",
    "        Returns:\n",
    "            float: The final estimate of the phase.\n",
    "        \"\"\"\n",
    "        precision = self.precision\n",
    "        \n",
    "        final_angle = self.mu_list[-1]\n",
    "        self.final_angle = final_angle\n",
    "        return final_angle\n"
   ]
  },
  {
   "cell_type": "code",
   "execution_count": 41,
   "id": "7b6cfb57-0e52-4e3b-9dc3-dd11b004c765",
   "metadata": {},
   "outputs": [],
   "source": []
  },
  {
   "cell_type": "code",
   "execution_count": 167,
   "id": "72e0a099-d742-45af-9881-3d15f75c3a16",
   "metadata": {},
   "outputs": [],
   "source": [
    "def get_estimate_alpha(input_angle, precision):\n",
    "    AQPE = alpha_phase_estimation(mu=0.25, sigma=0.1, s=1, precision=precision, backend=backend)\n",
    "    for i in range(2):\n",
    "        M, angle = AQPE.params()\n",
    "        M = 1\n",
    "        m = int(log2(M))\n",
    "        print(M, angle, m)\n",
    "        print(AQPE.pdist)\n",
    "        plt.plot(AQPE.phi_arr, AQPE.pdist)\n",
    "        circuit = bayesian_qpe_builder(1, 1, input_angle=input_angle, z_angle=angle, m=m).bayesian_qpe_circ.measure_all()\n",
    "        phi = AQPE.next_phi(circuit)\n",
    "        print(AQPE.pdist)\n",
    "        if i < 2 - 1:\n",
    "            AQPE.next_dist(phi)\n",
    "    return AQPE.get_final_estimate()\n",
    "plt.show()"
   ]
  },
  {
   "cell_type": "code",
   "execution_count": 161,
   "id": "22e630cf-d554-486f-83cf-ab8d4b176477",
   "metadata": {},
   "outputs": [
    {
     "data": {
      "text/html": [
       "\n",
       "\n",
       "\n",
       "\n",
       "\n",
       "\n",
       "<div style=\"resize: vertical; overflow: auto; height: 400px; display: block\">\n",
       "    <iframe srcdoc=\"\n",
       "&lt;!DOCTYPE html&gt;\n",
       "&lt;html lang=&#34;en&#34;&gt;\n",
       "&lt;head&gt;\n",
       "    &lt;meta charset=&#34;UTF-8&#34;&gt;\n",
       "    &lt;!-- Download Vue 3--&gt;\n",
       "&lt;script type=&#34;application/javascript&#34; src=&#34;https://cdn.jsdelivr.net/npm/vue@3&#34;&gt;&lt;/script&gt;\n",
       "&lt;!-- Download Circuit Renderer with styles --&gt;\n",
       "&lt;script type=&#34;application/javascript&#34; src=&#34;https://unpkg.com/pytket-circuit-renderer@0.7/dist/pytket-circuit-renderer.umd.js&#34;&gt;&lt;/script&gt;\n",
       "&lt;link rel=&#34;stylesheet&#34; href=&#34;https://unpkg.com/pytket-circuit-renderer@0.7/dist/pytket-circuit-renderer.css&#34;&gt;\n",
       "&lt;/head&gt;\n",
       "&lt;body&gt;\n",
       "\n",
       "\n",
       "\n",
       "    &lt;div id=&#34;circuit-display-vue-container-bc0fa1ca-0bf1-4765-b0f2-8cf3f047bcb8&#34; class=&#34;pytket-circuit-display-container&#34;&gt;\n",
       "        &lt;div style=&#34;display: none&#34;&gt;\n",
       "            &lt;div id=&#34;circuit-json-to-display&#34;&gt;{&#34;bits&#34;: [[&#34;c&#34;, [0]], [&#34;c&#34;, [1]]], &#34;commands&#34;: [{&#34;args&#34;: [[&#34;psi&#34;, [0]]], &#34;op&#34;: {&#34;type&#34;: &#34;X&#34;}}, {&#34;args&#34;: [[&#34;|0&gt;&#34;, [0]]], &#34;op&#34;: {&#34;type&#34;: &#34;H&#34;}}, {&#34;args&#34;: [[&#34;|0&gt;&#34;, [0]], [&#34;psi&#34;, [0]]], &#34;op&#34;: {&#34;params&#34;: [&#34;0.0&#34;, &#34;-0.1&#34;, &#34;0.5&#34;], &#34;type&#34;: &#34;CU3&#34;}}, {&#34;args&#34;: [[&#34;psi&#34;, [0]], [&#34;c&#34;, [0]]], &#34;op&#34;: {&#34;type&#34;: &#34;Measure&#34;}}, {&#34;args&#34;: [[&#34;|0&gt;&#34;, [0]]], &#34;op&#34;: {&#34;params&#34;: [&#34;-0.708699124003166&#34;], &#34;type&#34;: &#34;Rz&#34;}}, {&#34;args&#34;: [[&#34;|0&gt;&#34;, [0]]], &#34;op&#34;: {&#34;type&#34;: &#34;H&#34;}}, {&#34;args&#34;: [[&#34;|0&gt;&#34;, [0]], [&#34;c&#34;, [1]]], &#34;op&#34;: {&#34;type&#34;: &#34;Measure&#34;}}], &#34;created_qubits&#34;: [], &#34;discarded_qubits&#34;: [], &#34;implicit_permutation&#34;: [[[&#34;psi&#34;, [0]], [&#34;psi&#34;, [0]]], [[&#34;|0&gt;&#34;, [0]], [&#34;|0&gt;&#34;, [0]]]], &#34;phase&#34;: &#34;0.0&#34;, &#34;qubits&#34;: [[&#34;psi&#34;, [0]], [&#34;|0&gt;&#34;, [0]]]}&lt;/div&gt;\n",
       "        &lt;/div&gt;\n",
       "        &lt;circuit-display-container\n",
       "                :circuit-element-str=&#34;&#39;#circuit-json-to-display&#39;&#34;\n",
       "                :init-render-options=&#34;initRenderOptions&#34;\n",
       "        &gt;&lt;/circuit-display-container&gt;\n",
       "    &lt;/div&gt;\n",
       "    &lt;script type=&#34;application/javascript&#34;&gt;\n",
       "      const circuitRendererUid = &#34;bc0fa1ca-0bf1-4765-b0f2-8cf3f047bcb8&#34;;\n",
       "      const displayOptions = JSON.parse(&#39;{}&#39;);\n",
       "\n",
       "      // Script to initialise the circuit renderer app\n",
       "\n",
       "const { createApp } = Vue;\n",
       "const circuitDisplayContainer = window[&#34;pytket-circuit-renderer&#34;].default;\n",
       "// Init variables to be shared between circuit display instances\n",
       "if (typeof window.pytketCircuitDisplays === &#34;undefined&#34;) {\n",
       "    window.pytketCircuitDisplays = {};\n",
       "}\n",
       "// Create the root Vue component\n",
       "const app = createApp({\n",
       "    delimiters: [&#39;[[#&#39;, &#39;#]]&#39;],\n",
       "    components: { circuitDisplayContainer },\n",
       "    data () {\n",
       "      return {\n",
       "        initRenderOptions: displayOptions,\n",
       "      }\n",
       "    }\n",
       "})\n",
       "app.config.unwrapInjectedRef = true;\n",
       "app.mount(&#34;#circuit-display-vue-container-&#34;+circuitRendererUid);\n",
       "window.pytketCircuitDisplays[circuitRendererUid] = app;\n",
       "    &lt;/script&gt;\n",
       "\n",
       "\n",
       "\n",
       "&lt;/body&gt;\n",
       "&lt;/html&gt;\n",
       "\"\n",
       "            width=\"100%\" height=\"100%\"\n",
       "            style=\"border: none; outline: none; overflow: auto\"></iframe>\n",
       "</div>\n",
       "\n"
      ],
      "text/plain": [
       "<IPython.core.display.HTML object>"
      ]
     },
     "metadata": {},
     "output_type": "display_data"
    }
   ],
   "source": [
    "render_circuit_jupyter(circuit)"
   ]
  },
  {
   "cell_type": "code",
   "execution_count": 168,
   "id": "71976043-88c8-4aba-b5b6-e9407ed15877",
   "metadata": {},
   "outputs": [
    {
     "name": "stdout",
     "output_type": "stream",
     "text": [
      "1 0.15 0\n",
      "[1.72397960e-04 1.76654470e-04 1.80998777e-04 ... 2.77183019e-15\n",
      " 2.57625648e-15 2.39425319e-15]\n",
      "0.15\n",
      "[2.58255692e-04 2.62165385e-04 2.66078720e-04 ... 5.85513129e-15\n",
      " 5.41665731e-15 5.01014032e-15]\n",
      "1 0.2344649752432667 0\n",
      "[2.58255692e-04 2.62165385e-04 2.66078720e-04 ... 5.85513129e-15\n",
      " 5.41665731e-15 5.01014032e-15]\n",
      "0.2344649752432667\n",
      "[5.84939247e-04 5.94340381e-04 6.03709805e-04 ... 8.66784864e-15\n",
      " 7.93810558e-15 7.26746688e-15]\n"
     ]
    },
    {
     "data": {
      "text/plain": [
       "0.32018171506128484"
      ]
     },
     "execution_count": 168,
     "metadata": {},
     "output_type": "execute_result"
    },
    {
     "data": {
      "image/png": "[encoded data removed]",
      "text/plain": [
       "<Figure size 640x480 with 1 Axes>"
      ]
     },
     "metadata": {},
     "output_type": "display_data"
    }
   ],
   "source": [
    "get_estimate_alpha(0.3, 10)"
   ]
  },
  {
   "cell_type": "code",
   "execution_count": null,
   "id": "6fa3fc20-8155-484a-8b94-1de2eeb18e64",
   "metadata": {},
   "outputs": [],
   "source": []
  }
 ],
 "metadata": {
  "kernelspec": {
   "display_name": "Python 3 (ipykernel)",
   "language": "python",
   "name": "python3"
  },
  "language_info": {
   "codemirror_mode": {
    "name": "ipython",
    "version": 3
   },
   "file_extension": ".py",
   "mimetype": "text/x-python",
   "name": "python",
   "nbconvert_exporter": "python",
   "pygments_lexer": "ipython3",
   "version": "3.10.10"
  }
 },
 "nbformat": 4,
 "nbformat_minor": 5
}
