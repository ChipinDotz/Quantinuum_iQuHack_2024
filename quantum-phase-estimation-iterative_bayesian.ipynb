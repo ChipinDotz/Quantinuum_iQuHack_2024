{
 "cells": [
  {
   "cell_type": "markdown",
   "id": "94764098-eb90-480e-bd71-7e7e85fec8f7",
   "metadata": {},
   "source": [
    "# Initial QPE Circuit Bayesian version."
   ]
  },
  {
   "cell_type": "code",
   "execution_count": 8,
   "id": "514b4adc-ed9c-4e9d-ad7f-895939397dcc",
   "metadata": {},
   "outputs": [],
   "source": [
    "# Importing libraries.\n",
    "from pytket.circuit import Circuit\n",
    "from pytket.circuit import CircBox\n",
    "from pytket.circuit import QControlBox\n",
    "from pytket.circuit.display import render_circuit_jupyter\n",
    "from pytket.extensions.qiskit import qiskit_to_tk"
   ]
  },
  {
   "cell_type": "code",
   "execution_count": 2,
   "id": "8d09e85c-d1c9-461b-ae5e-6f437c914e65",
   "metadata": {},
   "outputs": [],
   "source": [
    "from math import log2\n",
    "from pytket.passes import DecomposeBoxes\n",
    "import numpy as np\n",
    "import matplotlib.pyplot as plt\n",
    "from jax import numpy as jnp\n",
    "import phayes"
   ]
  },
  {
   "cell_type": "code",
   "execution_count": 3,
   "id": "48f7c34c-5407-4791-9edb-772ad332f03d",
   "metadata": {},
   "outputs": [],
   "source": [
    "#from pytket.extensions.nexus import NexusBackend, QuantinuumConfig, Nexus\n",
    "from datetime import datetime\n",
    "from pytket.extensions.qiskit import AerBackend"
   ]
  },
  {
   "cell_type": "code",
   "execution_count": 4,
   "id": "2c71f49c-f475-4128-8398-9eae10476854",
   "metadata": {},
   "outputs": [],
   "source": [
    "from update_params import update_params"
   ]
  },
  {
   "cell_type": "code",
   "execution_count": 5,
   "id": "741672d5-0e93-4a0d-b0a3-db699d34291e",
   "metadata": {},
   "outputs": [],
   "source": [
    "backend = AerBackend()"
   ]
  },
  {
   "cell_type": "code",
   "execution_count": 3,
   "id": "a0c21c7c-fe2e-47d9-86f7-165ffe47fb31",
   "metadata": {},
   "outputs": [],
   "source": [
    "class bayesian_qpe_builder():\n",
    "    \n",
    "    def __init__(self, in_qubits, m_qubits, input_angle=1, z_angle=0, m=0, M=1):\n",
    "        # Initializing the circuit.\n",
    "        self.bayesian_qpe_circ: Circuit = Circuit()\n",
    "\n",
    "        # Variables.\n",
    "        self.m = m\n",
    "        self.M = M\n",
    "        self.use_M = True if M is not None else False\n",
    "        if not self.use_M:\n",
    "            self.M = 2**m\n",
    "        self.in_qubits = in_qubits\n",
    "        self.m_qubits = m_qubits\n",
    "        self.input_angle = input_angle\n",
    "        self.z_angle = z_angle\n",
    "        \n",
    "        # Creating the initial qubits.\n",
    "        initial_state = Circuit(in_qubits).X(0)  # Initial state of the circuit (|psi>).\n",
    "\n",
    "        # Creating the unitary gate.\n",
    "        unitary_control = Circuit(m_qubits).U1(input_angle, 0)  # Unitary control gate.\n",
    "        unitary_control.name = \"U\"\n",
    "        controlled_u_gate = QControlBox(CircBox(unitary_control), 1)\n",
    "        \n",
    "        # Initiate the measurement qubit.\n",
    "        measurement_register = self.bayesian_qpe_circ.add_q_register(\"|0>\", m_qubits)\n",
    "        # Initiate the initial state.\n",
    "        state_prep_register = self.bayesian_qpe_circ.add_q_register(\"psi\", in_qubits)\n",
    "\n",
    "        # Adding tha Hadamard gate.\n",
    "        for m_qubit in measurement_register:\n",
    "            self.bayesian_qpe_circ.H(m_qubit)\n",
    "\n",
    "        # Build the circuit.\n",
    "        self.bayesian_qpe_circ.add_circuit(initial_state, list(state_prep_register))\n",
    "        \n",
    "        # Adding the U-Control gate.\n",
    "        for m_qubit in range(m_qubits):\n",
    "            control_index = m_qubits - m_qubit - 1 # Contrtoling the index of the qubit.\n",
    "            control_qubit = [measurement_register[control_index]] # Controling WHICH qubit.\n",
    "            for _ in range(self.M):\n",
    "                self.bayesian_qpe_circ.add_qcontrolbox(\n",
    "                    controlled_u_gate, control_qubit + list(state_prep_register)\n",
    "                )\n",
    "\n",
    "        # Adding the Rz and Hadamard.\n",
    "        for m_qubit in measurement_register:\n",
    "            self.bayesian_qpe_circ.Rz(z_angle, m_qubit)\n",
    "\n",
    "        for m_qubit in measurement_register:\n",
    "            self.bayesian_qpe_circ.H(m_qubit)\n",
    "\n",
    "    def show_circuit(self):\n",
    "        return render_circuit_jupyter(self.bayesian_qpe_circ)\n",
    "            \n",
    "        "
   ]
  },
  {
   "cell_type": "code",
   "execution_count": 4,
   "id": "0b813d76-2fbb-4491-945e-78caf8e1530e",
   "metadata": {},
   "outputs": [],
   "source": [
    "bayesian_qpe = bayesian_qpe_builder(1, 1, input_angle=0.1, z_angle=0.5, m=0)"
   ]
  },
  {
   "cell_type": "code",
   "execution_count": 10,
   "id": "1c6c347d-443c-4f22-8a77-690b098bfb02",
   "metadata": {},
   "outputs": [
    {
     "ename": "AttributeError",
     "evalue": "'bayesian_qpe_builder' object has no attribute 'build_circuit'",
     "output_type": "error",
     "traceback": [
      "\u001b[0;31m---------------------------------------------------------------------------\u001b[0m",
      "\u001b[0;31mAttributeError\u001b[0m                            Traceback (most recent call last)",
      "Cell \u001b[0;32mIn[10], line 1\u001b[0m\n\u001b[0;32m----> 1\u001b[0m bqpe\u001b[38;5;241m=\u001b[39mqiskit_to_tk(\u001b[43mbayesian_qpe\u001b[49m\u001b[38;5;241;43m.\u001b[39;49m\u001b[43mbuild_circuit\u001b[49m())\n",
      "\u001b[0;31mAttributeError\u001b[0m: 'bayesian_qpe_builder' object has no attribute 'build_circuit'"
     ]
    }
   ],
   "source": [
    "bqpe=qiskit_to_tk(bayesian_qpe.build_circuit())"
   ]
  },
  {
   "cell_type": "code",
   "execution_count": 5,
   "id": "fd1e18cd-cfb0-491d-8716-1a2c36ddff17",
   "metadata": {},
   "outputs": [
    {
     "data": {
      "text/html": [
       "\n",
       "\n",
       "\n",
       "\n",
       "\n",
       "\n",
       "<div style=\"resize: vertical; overflow: auto; height: 400px; display: block\">\n",
       "    <iframe srcdoc=\"\n",
       "&lt;!DOCTYPE html&gt;\n",
       "&lt;html lang=&#34;en&#34;&gt;\n",
       "&lt;head&gt;\n",
       "    &lt;meta charset=&#34;UTF-8&#34;&gt;\n",
       "    &lt;!-- Download Vue 3--&gt;\n",
       "&lt;script type=&#34;application/javascript&#34; src=&#34;https://cdn.jsdelivr.net/npm/vue@3&#34;&gt;&lt;/script&gt;\n",
       "&lt;!-- Download Circuit Renderer with styles --&gt;\n",
       "&lt;script type=&#34;application/javascript&#34; src=&#34;https://unpkg.com/pytket-circuit-renderer@0.7/dist/pytket-circuit-renderer.umd.js&#34;&gt;&lt;/script&gt;\n",
       "&lt;link rel=&#34;stylesheet&#34; href=&#34;https://unpkg.com/pytket-circuit-renderer@0.7/dist/pytket-circuit-renderer.css&#34;&gt;\n",
       "&lt;/head&gt;\n",
       "&lt;body&gt;\n",
       "\n",
       "\n",
       "\n",
       "    &lt;div id=&#34;circuit-display-vue-container-e3f555a8-febf-409f-89ce-08dde4cbf929&#34; class=&#34;pytket-circuit-display-container&#34;&gt;\n",
       "        &lt;div style=&#34;display: none&#34;&gt;\n",
       "            &lt;div id=&#34;circuit-json-to-display&#34;&gt;{&#34;bits&#34;: [], &#34;commands&#34;: [{&#34;args&#34;: [[&#34;psi&#34;, [0]]], &#34;op&#34;: {&#34;type&#34;: &#34;X&#34;}}, {&#34;args&#34;: [[&#34;|0&gt;&#34;, [0]]], &#34;op&#34;: {&#34;type&#34;: &#34;H&#34;}}, {&#34;args&#34;: [[&#34;|0&gt;&#34;, [0]], [&#34;psi&#34;, [0]]], &#34;op&#34;: {&#34;box&#34;: {&#34;control_state&#34;: 1, &#34;id&#34;: &#34;db9321c8-8b8d-4e1d-87a8-258f091b45f1&#34;, &#34;n_controls&#34;: 1, &#34;op&#34;: {&#34;box&#34;: {&#34;circuit&#34;: {&#34;bits&#34;: [], &#34;commands&#34;: [{&#34;args&#34;: [[&#34;q&#34;, [0]]], &#34;op&#34;: {&#34;params&#34;: [&#34;0.1&#34;], &#34;type&#34;: &#34;U1&#34;}}], &#34;created_qubits&#34;: [], &#34;discarded_qubits&#34;: [], &#34;implicit_permutation&#34;: [[[&#34;q&#34;, [0]], [&#34;q&#34;, [0]]]], &#34;name&#34;: &#34;U&#34;, &#34;phase&#34;: &#34;0.0&#34;, &#34;qubits&#34;: [[&#34;q&#34;, [0]]]}, &#34;id&#34;: &#34;7f6e651f-1d40-4ed5-a3f3-c02703703a24&#34;, &#34;type&#34;: &#34;CircBox&#34;}, &#34;type&#34;: &#34;CircBox&#34;}, &#34;type&#34;: &#34;QControlBox&#34;}, &#34;type&#34;: &#34;QControlBox&#34;}}, {&#34;args&#34;: [[&#34;|0&gt;&#34;, [0]]], &#34;op&#34;: {&#34;params&#34;: [&#34;0.5&#34;], &#34;type&#34;: &#34;Rz&#34;}}, {&#34;args&#34;: [[&#34;|0&gt;&#34;, [0]]], &#34;op&#34;: {&#34;type&#34;: &#34;H&#34;}}], &#34;created_qubits&#34;: [], &#34;discarded_qubits&#34;: [], &#34;implicit_permutation&#34;: [[[&#34;psi&#34;, [0]], [&#34;psi&#34;, [0]]], [[&#34;|0&gt;&#34;, [0]], [&#34;|0&gt;&#34;, [0]]]], &#34;phase&#34;: &#34;0.0&#34;, &#34;qubits&#34;: [[&#34;psi&#34;, [0]], [&#34;|0&gt;&#34;, [0]]]}&lt;/div&gt;\n",
       "        &lt;/div&gt;\n",
       "        &lt;circuit-display-container\n",
       "                :circuit-element-str=&#34;&#39;#circuit-json-to-display&#39;&#34;\n",
       "                :init-render-options=&#34;initRenderOptions&#34;\n",
       "        &gt;&lt;/circuit-display-container&gt;\n",
       "    &lt;/div&gt;\n",
       "    &lt;script type=&#34;application/javascript&#34;&gt;\n",
       "      const circuitRendererUid = &#34;e3f555a8-febf-409f-89ce-08dde4cbf929&#34;;\n",
       "      const displayOptions = JSON.parse(&#39;{}&#39;);\n",
       "\n",
       "      // Script to initialise the circuit renderer app\n",
       "\n",
       "const { createApp } = Vue;\n",
       "const circuitDisplayContainer = window[&#34;pytket-circuit-renderer&#34;].default;\n",
       "// Init variables to be shared between circuit display instances\n",
       "if (typeof window.pytketCircuitDisplays === &#34;undefined&#34;) {\n",
       "    window.pytketCircuitDisplays = {};\n",
       "}\n",
       "// Create the root Vue component\n",
       "const app = createApp({\n",
       "    delimiters: [&#39;[[#&#39;, &#39;#]]&#39;],\n",
       "    components: { circuitDisplayContainer },\n",
       "    data () {\n",
       "      return {\n",
       "        initRenderOptions: displayOptions,\n",
       "      }\n",
       "    }\n",
       "})\n",
       "app.config.unwrapInjectedRef = true;\n",
       "app.mount(&#34;#circuit-display-vue-container-&#34;+circuitRendererUid);\n",
       "window.pytketCircuitDisplays[circuitRendererUid] = app;\n",
       "    &lt;/script&gt;\n",
       "\n",
       "\n",
       "\n",
       "&lt;/body&gt;\n",
       "&lt;/html&gt;\n",
       "\"\n",
       "            width=\"100%\" height=\"100%\"\n",
       "            style=\"border: none; outline: none; overflow: auto\"></iframe>\n",
       "</div>\n",
       "\n"
      ],
      "text/plain": [
       "<IPython.core.display.HTML object>"
      ]
     },
     "metadata": {},
     "output_type": "display_data"
    }
   ],
   "source": [
    "bayesian_qpe.show_circuit()"
   ]
  },
  {
   "cell_type": "code",
   "execution_count": 7,
   "id": "bef51748-5846-4446-b4b2-4417fd66e525",
   "metadata": {},
   "outputs": [],
   "source": [
    "class iterative_phase_estimation():\n",
    "    \"\"\"\n",
    "    A class to perform iterative phase estimation algorithm.\n",
    "    \n",
    "    This class estimates the phase of a quantum state using the iterative phase estimation algorithm. \n",
    "    The algorithm iteratively refines the estimate of the phase by adjusting the measurement basis \n",
    "    and interpreting the measurement outcomes.\n",
    "    \n",
    "    Attributes:\n",
    "        M_0 (int): Initial value of M, controls the precision of the phase estimation.\n",
    "        z_angle_0 (float): Initial z-axis rotation angle.\n",
    "        precision (int): The number of bits of precision for the phase estimate.\n",
    "        backend: The quantum computation backend to run circuits.\n",
    "    \"\"\"\n",
    "\n",
    "    def __init__(self, M_0=None, z_angle_0=None, precision=3, backend=None):\n",
    "        \"\"\"\n",
    "        Initializes the iterative phase estimation algorithm with optional parameters.\n",
    "        \n",
    "        Parameters:\n",
    "            M_0 (int, optional): The starting value of M. Defaults to 2**(precision-1) if None.\n",
    "            z_angle_0 (float, optional): The starting z-axis angle for rotation. Defaults to 0 if None.\n",
    "            precision (int, optional): The desired precision for the phase estimate. Defaults to 3.\n",
    "            backend: The backend to execute quantum circuits. Defaults to None.\n",
    "        \"\"\"\n",
    "        self.M_0 = M_0 if M_0 is not None else 2**(precision-1)\n",
    "        self.z_angle_0 = z_angle_0 if z_angle_0 is not None else 0.\n",
    "        self.M_list = [self.M_0]  # Tracks the M values used in each iteration.\n",
    "        self.angle_list = [self.z_angle_0]  # Tracks the angles used in each iteration.\n",
    "        self.precision = precision\n",
    "        self.phi_list = []  # Tracks the phi values obtained in each iteration.\n",
    "        self.backend = backend\n",
    "\n",
    "    def next_params(self, phi):\n",
    "        \"\"\"\n",
    "        Calculates the next parameters (M and angle) for the iteration based on the latest phi value.\n",
    "        \n",
    "        Parameters:\n",
    "            phi (int): The phi value obtained from the latest quantum measurement.\n",
    "        \n",
    "        Returns:\n",
    "            tuple: A tuple containing the new M value and the new angle for the next iteration.\n",
    "        \"\"\"\n",
    "        last_M, last_angle = self.M_list[-1], self.angle_list[-1]\n",
    "        precision = self.precision\n",
    "        n_updates = len(self.M_list)\n",
    "\n",
    "        new_M = 2**(precision - n_updates - 1)\n",
    "\n",
    "        int_list = 2**(-np.arange(1, precision + 1, 1)[::-1].astype(float))\n",
    "        new_angle = -np.pi * np.sum(int_list[:n_updates] * self.phi_list)\n",
    "\n",
    "        self.M_list.append(new_M)\n",
    "        self.angle_list.append(new_angle)\n",
    "\n",
    "        return new_M, new_angle\n",
    "\n",
    "    def next_phi(self, circuit):\n",
    "        \"\"\"\n",
    "        Processes the given circuit to extract the next phi value.\n",
    "        \n",
    "        This method involves compiling the circuit for the backend, executing it, \n",
    "        and interpreting the result to obtain phi.\n",
    "        \n",
    "        Parameters:\n",
    "            circuit: The quantum circuit to be processed.\n",
    "        \n",
    "        Returns:\n",
    "            int: The new phi value extracted from the circuit execution result.\n",
    "        \"\"\"\n",
    "        # Assuming DecomposeBoxes is a method or class available in the context for circuit processing.\n",
    "        DecomposeBoxes().apply(circuit)\n",
    "        compiled_circ = self.backend.get_compiled_circuit(circuit)\n",
    "        n_shots = 1024  # The number of shots for the circuit execution.\n",
    "        result = self.backend.run_circuit(compiled_circ, n_shots)\n",
    "        #print(result.get_counts().items())\n",
    "        for key, val in result.get_counts().items():\n",
    "            meas = key[1]\n",
    "            if meas==0:\n",
    "                P_0 = val/n_shots\n",
    "                P_1 = 1-P_0\n",
    "            elif meas==1:\n",
    "                P_1 = val/n_shots\n",
    "                P_0 = 1-P_1\n",
    "        #print(P_0, P_1)\n",
    "        new_phi = 0 if P_0 > P_1 else 1\n",
    "\n",
    "        #new_phi = list(result.get_counts())[0][1]  # Assuming specific format for result interpretation.\n",
    "\n",
    "        self.phi_list.append(new_phi)\n",
    "        return new_phi\n",
    "\n",
    "    def get_final_estimate(self):\n",
    "        \"\"\"\n",
    "        Calculates the final phase estimate after all iterations.\n",
    "        \n",
    "        Returns:\n",
    "            float: The final estimate of the phase.\n",
    "        \"\"\"\n",
    "        precision = self.precision\n",
    "        n_updates = len(self.M_list)\n",
    "        int_list = 2**(-np.arange(0, precision, 1)[::-1].astype(float))\n",
    "        final_angle = np.pi * np.sum(int_list[:n_updates] * self.phi_list)\n",
    "        self.final_angle = final_angle\n",
    "        return final_angle\n"
   ]
  },
  {
   "cell_type": "code",
   "execution_count": null,
   "id": "8989f510-eb89-4f13-9925-25cd68122268",
   "metadata": {},
   "outputs": [],
   "source": []
  },
  {
   "cell_type": "code",
   "execution_count": 26,
   "id": "ea8a5586-52a2-4c30-acea-81d39ba81d13",
   "metadata": {},
   "outputs": [
    {
     "name": "stdout",
     "output_type": "stream",
     "text": [
      "\n",
      "New project created: Phase Estimation Tutorial - 2024-02-04 01:22:13.435093\n",
      "\n",
      "Started using project with name: Phase Estimation Tutorial - 2024-02-04 01:22:13.435093\n"
     ]
    }
   ],
   "source": [
    "phase_est_project = Nexus().new_project(f\"Phase Estimation Tutorial - {datetime.now()}\")\n",
    "\n",
    "configuration = QuantinuumConfig(device_name=\"H1-1E\")\n",
    "#, user_group=\"iQuHACK_2024\")\n",
    "\n",
    "backend = NexusBackend(\n",
    "    backend_config= configuration, \n",
    "    project= phase_est_project\n",
    ")"
   ]
  },
  {
   "cell_type": "code",
   "execution_count": 11,
   "id": "1bc0bb02-4a6d-4513-a1b6-63044f1f6d19",
   "metadata": {},
   "outputs": [],
   "source": []
  },
  {
   "cell_type": "code",
   "execution_count": 9,
   "id": "b3bcb8ad-0f0c-4092-acbe-a363c01b533e",
   "metadata": {},
   "outputs": [],
   "source": [
    "def get_estimate(input_angle, precision):\n",
    "    IQPE = iterative_phase_estimation(precision=precision, backend=backend)\n",
    "    for i in range(IQPE.precision):\n",
    "        M, angle = IQPE.M_list[-1], IQPE.angle_list[-1]\n",
    "        m = int(log2(M))\n",
    "        #print(M, angle, m)\n",
    "        circuit = bayesian_qpe_builder(1, 1, input_angle=input_angle, z_angle=angle, m=m).bayesian_qpe_circ.measure_all()\n",
    "        phi = IQPE.next_phi(circuit)\n",
    "        #print(IQPE.phi_list)\n",
    "        if i < IQPE.precision - 1:\n",
    "            IQPE.next_params(phi)\n",
    "    return IQPE.get_final_estimate()"
   ]
  },
  {
   "cell_type": "code",
   "execution_count": 6,
   "id": "d25981b9-c8f4-4b5a-a230-d9ae28c3b1ec",
   "metadata": {},
   "outputs": [],
   "source": []
  },
  {
   "cell_type": "code",
   "execution_count": 138,
   "id": "4029ac90-1676-46a2-8bfc-20dc878a26b5",
   "metadata": {},
   "outputs": [
    {
     "data": {
      "image/png": "[encoded data removed]",
      "text/plain": [
       "<Figure size 640x480 with 1 Axes>"
      ]
     },
     "metadata": {},
     "output_type": "display_data"
    }
   ],
   "source": [
    "input_angle = 2**-2 + 2**-4\n",
    "precisions = np.arange(2,10)\n",
    "data = [get_estimate(input_angle, precision) for precision in precisions]\n",
    "plt.plot(precisions, data)\n",
    "plt.plot(precisions, input_angle*np.pi*(1+np.zeros_like(precisions)))\n",
    "plt.show()"
   ]
  },
  {
   "cell_type": "code",
   "execution_count": 139,
   "id": "3dca6cc5-1874-41ab-a178-184d64e96f05",
   "metadata": {},
   "outputs": [
    {
     "data": {
      "image/png": "[encoded data removed]",
      "text/plain": [
       "<Figure size 640x480 with 1 Axes>"
      ]
     },
     "metadata": {},
     "output_type": "display_data"
    }
   ],
   "source": [
    "plt.plot(precisions, np.abs(data-input_angle*np.pi*(1+np.zeros_like(precisions))))\n",
    "plt.yscale('log')\n",
    "plt.show()"
   ]
  },
  {
   "cell_type": "code",
   "execution_count": 54,
   "id": "8c6c0e2d-9896-40c0-b042-61e7ad7d4e92",
   "metadata": {},
   "outputs": [
    {
     "data": {
      "text/plain": [
       "(4.558990901596125, 1.2566370614359172)"
      ]
     },
     "execution_count": 54,
     "metadata": {},
     "output_type": "execute_result"
    }
   ],
   "source": [
    "IQPE.get_final_estimate(), input_angle*np.pi"
   ]
  },
  {
   "cell_type": "markdown",
   "id": "deb8d578-5d80-4761-98de-7c100da5400d",
   "metadata": {},
   "source": [
    "# Bayesian QPE"
   ]
  },
  {
   "cell_type": "code",
   "execution_count": 7,
   "id": "68c45594-373d-4641-ab55-7bbe4eed7cd5",
   "metadata": {},
   "outputs": [],
   "source": [
    "class alpha_phase_estimation():\n",
    "    \"\"\"\n",
    "    A class to perform alpha phase estimation algorithm.\n",
    "    \n",
    "    This class estimates the phase of a quantum state using the iterative phase estimation algorithm. \n",
    "    The algorithm iteratively refines the estimate of the phase by adjusting the measurement basis \n",
    "    and interpreting the measurement outcomes.\n",
    "    \n",
    "    Attributes:\n",
    "        M_0 (int): Initial value of M, controls the precision of the phase estimation.\n",
    "        z_angle_0 (float): Initial z-axis rotation angle.\n",
    "        precision (int): The number of bits of precision for the phase estimate.\n",
    "        backend: The quantum computation backend to run circuits.\n",
    "    \"\"\"\n",
    "\n",
    "    def __init__(self, s=100, M_max=1e100, backend=None):\n",
    "        \"\"\"\n",
    "        Initializes the iterative phase estimation algorithm with optional parameters.\n",
    "        \n",
    "        Parameters:\n",
    "            M_0 (int, optional): The starting value of M. Defaults to 2**(precision-1) if None.\n",
    "            z_angle_0 (float, optional): The starting z-axis angle for rotation. Defaults to 0 if None.\n",
    "            precision (int, optional): The desired precision for the phase estimate. Defaults to 3.\n",
    "            backend: The backend to execute quantum circuits. Defaults to None.\n",
    "        \"\"\"\n",
    "        self.phi_list = []  # Tracks the phi values obtained in each iteration.\n",
    "        self.backend = backend\n",
    "        self.phi_arr = np.linspace(-np.pi, np.pi, 1024)\n",
    "        self.s = s\n",
    "        self.posterior_state = phayes.init()\n",
    "        self.errors = []\n",
    "        self.M_max = M_max\n",
    "            \n",
    "    def normal_dist(self, mu, sigma):\n",
    "        return np.exp(-0.5*((self.phi_arr - mu) / sigma)**2)\n",
    "\n",
    "    # def params(self):\n",
    "    #     mu, sigma = self.mu_list[-1], self.sigma_list[-1]\n",
    "    #     M = max(1, int(1./sigma))\n",
    "    #     angle = mu-sigma\n",
    "    #     return M, angle\n",
    "\n",
    "    def next_phi(self, circuit):\n",
    "        \"\"\"\n",
    "        Processes the given circuit to extract the next phi value.\n",
    "        \n",
    "        This method involves compiling the circuit for the backend, executing it, \n",
    "        and interpreting the result to obtain phi.\n",
    "        \n",
    "        Parameters:\n",
    "            circuit: The quantum circuit to be processed.\n",
    "        \n",
    "        Returns:\n",
    "            int: The new phi value extracted from the circuit execution result.\n",
    "        \"\"\"\n",
    "        # Assuming DecomposeBoxes is a method or class available in the context for circuit processing.\n",
    "        DecomposeBoxes().apply(circuit)\n",
    "        compiled_circ = self.backend.get_compiled_circuit(circuit)\n",
    "        n_shots = self.s  # The number of shots for the circuit execution.\n",
    "        result = self.backend.run_circuit(compiled_circ, n_shots)\n",
    "\n",
    "        for i, (key, val) in enumerate(result.get_counts().items()):\n",
    "            meas = key[1]\n",
    "            meas_arr = np.zeros(self.s, dtype=int)\n",
    "            meas_arr[:val] = meas\n",
    "            meas_arr[val:] = 1-meas\n",
    "            M, beta = phayes.get_k_and_beta(self.posterior_state)\n",
    "            self.posterior_state = phayes.update(self.posterior_state, meas_arr, M, beta)\n",
    "            if M > self.M_max:\n",
    "                beta = phayes.get_beta_given_k(self.posterior_state, self.M_max)[0]\n",
    "                self.posterior_state = phayes.update(self.posterior_state, meas_arr, self.M_max, beta)\n",
    "            else:\n",
    "                self.posterior_state = phayes.update(self.posterior_state, meas_arr, M, beta)\n",
    "            if i>0:\n",
    "                break\n",
    "            \n",
    "        # meas = int(list(measurement)[0])\n",
    "        # val = list(measurement.values())[0]\n",
    "        # meas_arr = np.zeros(self.s, dtype=int)\n",
    "        # meas_arr[:val] = meas\n",
    "        # meas_arr[val:] = 1-meas\n",
    "        # #print(meas_arr)\n",
    "        # M, beta = phayes.get_k_and_beta(self.posterior_state)\n",
    "        # self.posterior_state = phayes.update(self.posterior_state, meas_arr, M, beta)\n",
    "\n",
    "    def next_phi_qiskit(self, measurement):\n",
    "        \"\"\"\n",
    "        Processes the given circuit to extract the next phi value.\n",
    "        \n",
    "        This method involves compiling the circuit for the backend, executing it, \n",
    "        and interpreting the result to obtain phi.\n",
    "        \n",
    "        Parameters:\n",
    "            circuit: The quantum circuit to be processed.\n",
    "        \n",
    "        Returns:\n",
    "            int: The new phi value extracted from the circuit execution result.\n",
    "        \"\"\"\n",
    "\n",
    "\n",
    "        meas = int(list(measurement)[0])\n",
    "        val = list(measurement.values())[0]\n",
    "        meas_arr = np.zeros(self.s, dtype=int)\n",
    "        meas_arr[:val] = meas\n",
    "        meas_arr[val:] = 1-meas\n",
    "        #print(meas_arr)\n",
    "        M, beta = phayes.get_k_and_beta(self.posterior_state)\n",
    "        if M > self.M_max:\n",
    "            beta = phayes.get_beta_given_k(self.posterior_state, self.M_max)[0]\n",
    "            self.posterior_state = phayes.update(self.posterior_state, meas_arr, self.M_max, beta)\n",
    "        else:\n",
    "            self.posterior_state = phayes.update(self.posterior_state, meas_arr, M, beta)\n",
    "\n",
    "    def get_final_estimate(self):\n",
    "        \"\"\"\n",
    "        Calculates the final phase estimate after all iterations.\n",
    "        \n",
    "        Returns:\n",
    "            float: The final estimate of the phase.\n",
    "        \"\"\"\n",
    "        \n",
    "        final_angle = float(phayes.circular_mean(self.posterior_state)) * 2 / np.pi\n",
    "        self.final_angle = final_angle\n",
    "        return final_angle\n",
    "\n",
    "    def get_final_error(self, val):\n",
    "        \"\"\"\n",
    "        Calculates the final phase estimate after all iterations.\n",
    "        \n",
    "        Returns:\n",
    "            float: The final estimate of the phase.\n",
    "        \"\"\"\n",
    "        \n",
    "        error = float(phayes.cosine_distance(val, self.posterior_state))\n",
    "        self.errors.append(error)\n"
   ]
  },
  {
   "cell_type": "code",
   "execution_count": 8,
   "id": "aea905fe",
   "metadata": {},
   "outputs": [],
   "source": [
    "from qiskit import QuantumCircuit, Aer, execute"
   ]
  },
  {
   "cell_type": "code",
   "execution_count": 9,
   "id": "a6df740f",
   "metadata": {},
   "outputs": [],
   "source": [
    "# Function to apply controlled-U operations\n",
    "def apply_cu(qc, ctrl_qubit, target_qubit, U, power):\n",
    "    U_cp = U.copy()\n",
    "    U_cp.name = f\"U^{2**power}\"\n",
    "    qc.append(U_cp.control(), [ctrl_qubit, target_qubit])\n",
    "\n",
    "def qiskit_circuit(input_angle, M, angle, shots=10):\n",
    "    # Define the unitary operator U. Here we use a Z gate as an example.\n",
    "    U = QuantumCircuit(1)\n",
    "    U.rz(np.pi*input_angle*M, 0)\n",
    "    U.name = \"U\"\n",
    "\n",
    "    # Number of iterations / precision bits\n",
    "    num_iterations = 1\n",
    "\n",
    "    # Prepare the quantum circuit\n",
    "    qc = QuantumCircuit(2, 1)  # 2 qubits, 1 classical bit for measurement\n",
    "\n",
    "    # Initialize the eigenstate of U (assuming |1> is an eigenstate of U)\n",
    "    qc.x(1)  # Prepare the state |1>\n",
    "\n",
    "    for k in range(num_iterations):\n",
    "        # Apply Hadamard to auxiliary qubit\n",
    "        qc.h(0)\n",
    "        \n",
    "        # Apply controlled-U operations conditioned on previous outcomes\n",
    "        for i in range(2**k):\n",
    "            apply_cu(qc, 0, 1, U, k)\n",
    "\n",
    "        qc.rz(angle, 0)\n",
    "        \n",
    "        # Apply the inverse QFT (Hadamard for single qubit)\n",
    "        qc.h(0)\n",
    "        \n",
    "        # Measure\n",
    "        qc.measure(0, 0)\n",
    "        \n",
    "        # Execute the circuit\n",
    "        backend = Aer.get_backend('qasm_simulator')\n",
    "        job = execute(qc, backend, shots=shots)\n",
    "        result = job.result()\n",
    "        measurement = result.get_counts()\n",
    "\n",
    "        #print(qc.draw())\n",
    "\n",
    "        return measurement\n",
    "\n",
    "    # The estimated phase would be determined here based on the measurements\n"
   ]
  },
  {
   "cell_type": "code",
   "execution_count": 118,
   "id": "72e0a099-d742-45af-9881-3d15f75c3a16",
   "metadata": {},
   "outputs": [],
   "source": [
    "def get_estimate_alpha(input_angle, precision):\n",
    "    AQPE = alpha_phase_estimation(mu=0.5, sigma=0.4, s=10, precision=precision, backend=backend)\n",
    "    for i in range(4):\n",
    "        M, beta = phayes.get_k_and_beta(AQPE.posterior_state)\n",
    "        angle = beta\n",
    "        #m = int(log2(M))\n",
    "        print(\"M, angle:\", M, angle)\n",
    "        if i%1==0:\n",
    "            plt.plot(AQPE.phi_arr, phayes.pdf(AQPE.phi_arr, AQPE.posterior_state), label=i)\n",
    "        circuit = bayesian_qpe_builder(1, 1, input_angle=input_angle, z_angle=angle/np.pi, M=M).bayesian_qpe_circ.measure_all()\n",
    "        AQPE.next_phi(circuit)\n",
    "        #measurement = qiskit_circuit(input_angle=input_angle, M=int(M), angle=float(angle))\n",
    "        #AQPE.next_phi_qiskit(measurement)\n",
    "    plt.legend()\n",
    "    plt.show()\n",
    "    return AQPE.get_final_estimate()"
   ]
  },
  {
   "cell_type": "code",
   "execution_count": 119,
   "id": "71976043-88c8-4aba-b5b6-e9407ed15877",
   "metadata": {},
   "outputs": [
    {
     "name": "stdout",
     "output_type": "stream",
     "text": [
      "M, angle: 1 1.5707964\n",
      "M, angle: 2 1.5707964\n",
      "M, angle: 6 2.9447577\n",
      "M, angle: 16 1.202395\n"
     ]
    },
    {
     "data": {
      "image/png": "[encoded data removed]",
      "text/plain": [
       "<Figure size 640x480 with 1 Axes>"
      ]
     },
     "metadata": {},
     "output_type": "display_data"
    },
    {
     "data": {
      "text/plain": [
       "0.500386564675295"
      ]
     },
     "execution_count": 119,
     "metadata": {},
     "output_type": "execute_result"
    }
   ],
   "source": [
    "get_estimate_alpha(0.5, 10)"
   ]
  },
  {
   "cell_type": "code",
   "execution_count": 50,
   "id": "7ddeefc5",
   "metadata": {},
   "outputs": [],
   "source": [
    "def get_estimate_bayesian(input_angle):\n",
    "    final_angles = []\n",
    "    s = 10\n",
    "    AQPE = alpha_phase_estimation(s=s, M_max=1e10, backend=backend)\n",
    "    for i in range(10):\n",
    "        M, beta = phayes.get_k_and_beta(AQPE.posterior_state)\n",
    "        if M > AQPE.M_max:\n",
    "            M = AQPE.M_max\n",
    "            beta = phayes.get_beta_given_k(AQPE.posterior_state, M)[0]\n",
    "\n",
    "        angle = beta\n",
    "        #m = int(log2(M))\n",
    "        print(\"M, angle:\", M, angle)\n",
    "        plt.plot(AQPE.phi_arr, phayes.pdf(AQPE.phi_arr, AQPE.posterior_state), label=i)\n",
    "        final_angles.append(AQPE.get_final_estimate())\n",
    "        AQPE.get_final_error(input_angle  * np.pi / 2)\n",
    "        #measurement = qiskit_circuit(input_angle=input_angle, M=int(M), angle=float(angle), shots=s)\n",
    "        #AQPE.next_phi_qiskit(measurement)\n",
    "        #circuit = bayesian_qpe_builder(1, 1, input_angle=input_angle, z_angle=angle/np.pi, M=M).bayesian_qpe_circ.measure_all()\n",
    "        #AQPE.next_phi(circuit)\n",
    "        measurement = qiskit_circuit_big_U(M=int(M), angle=float(angle), shots=s)\n",
    "        AQPE.next_phi_qiskit(measurement)\n",
    "    plt.legend()\n",
    "    plt.show()\n",
    "    errors = AQPE.errors\n",
    "    return final_angles, errors"
   ]
  },
  {
   "cell_type": "code",
   "execution_count": 51,
   "id": "0cebfba8",
   "metadata": {},
   "outputs": [
    {
     "name": "stdout",
     "output_type": "stream",
     "text": [
      "M, angle: 1 1.5707964\n",
      "M, angle: 1 0.0\n",
      "M, angle: 4 3.1015048\n",
      "M, angle: 10 0.91135895\n",
      "M, angle: 19 2.8869336\n",
      "M, angle: 53 1.3742768\n",
      "M, angle: 71 0.0\n",
      "M, angle: 267 2.7078633\n",
      "M, angle: 266 1.5707964\n",
      "M, angle: 77 1.7584845\n"
     ]
    },
    {
     "data": {
      "image/png": "[encoded data removed]",
      "text/plain": [
       "<Figure size 640x480 with 1 Axes>"
      ]
     },
     "metadata": {},
     "output_type": "display_data"
    }
   ],
   "source": [
    "final_angles, errors = get_estimate_bayesian(0.0)"
   ]
  },
  {
   "cell_type": "code",
   "execution_count": 42,
   "id": "99bb63b7",
   "metadata": {},
   "outputs": [
    {
     "data": {
      "text/plain": [
       "[0.0,\n",
       " 1.003315173977687,\n",
       " 0.00010119656002609311,\n",
       " 0.0325035895996213,\n",
       " -0.02092443630431562,\n",
       " -0.005807879420194361,\n",
       " 0.007394247773172906,\n",
       " -0.0012431169590802079,\n",
       " -0.004720566665181222,\n",
       " -0.0003841633080342469]"
      ]
     },
     "execution_count": 42,
     "metadata": {},
     "output_type": "execute_result"
    }
   ],
   "source": [
    "final_angles"
   ]
  },
  {
   "cell_type": "code",
   "execution_count": 41,
   "id": "00721901",
   "metadata": {},
   "outputs": [
    {
     "data": {
      "image/png": "[encoded data removed]",
      "text/plain": [
       "<Figure size 640x480 with 1 Axes>"
      ]
     },
     "metadata": {},
     "output_type": "display_data"
    }
   ],
   "source": [
    "iters = np.arange(1, len(final_angles)+1)\n",
    "plt.plot(iters, np.abs(errors))\n",
    "plt.yscale('log')\n",
    "plt.show()"
   ]
  },
  {
   "cell_type": "code",
   "execution_count": 183,
   "id": "f8ce3126",
   "metadata": {},
   "outputs": [
    {
     "data": {
      "image/png": "[encoded data removed]",
      "text/plain": [
       "<Figure size 640x480 with 1 Axes>"
      ]
     },
     "metadata": {},
     "output_type": "display_data"
    }
   ],
   "source": [
    "iters = np.arange(1, len(final_angles)+1)\n",
    "plt.plot(iters, np.abs(errors))\n",
    "plt.yscale('log')\n",
    "plt.show()"
   ]
  },
  {
   "cell_type": "code",
   "execution_count": 173,
   "id": "7739905a",
   "metadata": {},
   "outputs": [
    {
     "data": {
      "image/png": "[encoded data removed]",
      "text/plain": [
       "<Figure size 640x480 with 1 Axes>"
      ]
     },
     "metadata": {},
     "output_type": "display_data"
    }
   ],
   "source": [
    "iters = np.arange(1, len(final_angles)+1)\n",
    "plt.plot(iters, np.abs(errors))\n",
    "plt.yscale('log')\n",
    "plt.show()"
   ]
  },
  {
   "cell_type": "code",
   "execution_count": 141,
   "id": "315c8cab",
   "metadata": {},
   "outputs": [
    {
     "data": {
      "image/png": "[encoded data removed]",
      "text/plain": [
       "<Figure size 640x480 with 1 Axes>"
      ]
     },
     "metadata": {},
     "output_type": "display_data"
    }
   ],
   "source": [
    "iters = np.arange(1, len(final_angles)+1)\n",
    "plt.plot(iters, np.abs(np.array(final_angles) - 0.05))\n",
    "plt.yscale('log')\n",
    "plt.show()"
   ]
  },
  {
   "cell_type": "markdown",
   "id": "d96ee60e",
   "metadata": {},
   "source": [
    "# Big $U$"
   ]
  },
  {
   "cell_type": "code",
   "execution_count": 17,
   "id": "6be905d3",
   "metadata": {},
   "outputs": [],
   "source": [
    "from pytket.circuit import Circuit\n",
    "from pytket.circuit.display import render_circuit_jupyter\n",
    "from pytket.backends.backendresult import BackendResult\n",
    "import matplotlib.pyplot as plt\n",
    "from pytket.circuit import Op\n",
    "from pytket.circuit import OpType\n",
    "from pytket.circuit import QControlBox\n",
    "from pytket.circuit import ConjugationBox\n",
    "from pytket.circuit import CircBox\n",
    "import numpy as np\n",
    "from pytket.extensions.qiskit import tk_to_qiskit\n",
    "from pytket.passes import DecomposeBoxes"
   ]
  },
  {
   "cell_type": "code",
   "execution_count": 21,
   "id": "73a175f3",
   "metadata": {},
   "outputs": [],
   "source": [
    "theta_1=0.5\n",
    "theta_2=0.7\n",
    "theta_3=0.2\n",
    "# Define the angles for the rotations\n",
    "Rz_op = lambda angle: Op.create(OpType.Rz, angle)\n",
    "Conz0=QControlBox(Rz_op(theta_1),n_controls=3,control_state=[0,1,2])\n",
    "Conz1=QControlBox(Rz_op(theta_2),n_controls=3,control_state=[0,1,2])\n",
    "Conz2=QControlBox(Rz_op(theta_3),n_controls=3,control_state=[0,1,2])\n",
    "\n",
    "A=Circuit(4)\n",
    "\n",
    "A.add_gate(Conz0,[2,0,1,3])\n",
    "A.add_gate(Conz1,[1,0,2,3])\n",
    "A.add_gate(Conz2,[0,1,2,3])\n",
    "\n",
    "#render_circuit_jupyter(A)\n",
    "C=Circuit(4)\n",
    "\n",
    "C.CX(2, 3)\n",
    "# Assuming the first three steps include another CNOT from qubit 1 to qubit 2\n",
    "C.CX(1, 3)\n",
    "# And one more CNOT from qubit 0 to qubit 1\n",
    "C.CX(0, 3)\n",
    "C.H(3)\n",
    "#render_circuit_jupyter(C)\n",
    "c_box = CircBox(C)\n",
    "a_box= CircBox(A)\n",
    "conj_box=ConjugationBox(c_box,a_box)\n",
    "circ=Circuit(4)\n",
    "circ.add_gate(conj_box,[0,1,2,3])\n",
    "\n",
    "#render_circuit_jupyter(circ)\n",
    "finalu=QControlBox(conj_box,n_controls=1,control_state=[0])\n",
    "circ=Circuit(5)\n",
    "circ.add_gate(finalu,[0,1,2,3,4])\n",
    "\n",
    "\n",
    "#render_circuit_jupyter(circ)\n",
    "DecomposeBoxes().apply(circ)\n",
    "cU = tk_to_qiskit(circ)\n",
    "cU.name = 'cU'"
   ]
  },
  {
   "cell_type": "code",
   "execution_count": 26,
   "id": "2c5fce66",
   "metadata": {},
   "outputs": [],
   "source": [
    "# Function to apply controlled-U operations\n",
    "def apply_big_cu(qc, ctrl_qubit, target_qubits, U, power):\n",
    "    U_cp = U.copy()\n",
    "    U_cp.name = f\"U^{2**power}\"\n",
    "    qc.append(U_cp.control(), [ctrl_qubit, *target_qubits])"
   ]
  },
  {
   "cell_type": "code",
   "execution_count": 37,
   "id": "ecc99458",
   "metadata": {},
   "outputs": [],
   "source": [
    "def qiskit_circuit_big_U(M, angle, shots=10):\n",
    "\n",
    "    # Prepare the quantum circuit\n",
    "    qc = QuantumCircuit(5, 1)  # 2 qubits, 1 classical bit for measurement\n",
    "\n",
    "    # Initialize the eigenstate of U (assuming |1> is an eigenstate of U)\n",
    "    # qc.x(1)  # Prepare the state |1>\n",
    "\n",
    "    for k in range(1):\n",
    "        # Apply Hadamard to auxiliary qubit\n",
    "        qc.h(0)\n",
    "        \n",
    "        # Apply controlled-U operations conditioned on previous outcomes\n",
    "        for i in range(M):\n",
    "            qc.append(cU, range(5))\n",
    "\n",
    "        qc.rz(angle, 0)\n",
    "        \n",
    "        # Apply the inverse QFT (Hadamard for single qubit)\n",
    "        qc.h(0)\n",
    "        \n",
    "        # Measure\n",
    "        qc.measure(0, 0)\n",
    "\n",
    "        #print(qc.draw())\n",
    "        \n",
    "        # Execute the circuit\n",
    "        backend = Aer.get_backend('qasm_simulator')\n",
    "        job = execute(qc, backend, shots=shots)\n",
    "        result = job.result()\n",
    "        measurement = result.get_counts()\n",
    "\n",
    "        #print(qc.draw())\n",
    "\n",
    "        return measurement"
   ]
  },
  {
   "cell_type": "code",
   "execution_count": 36,
   "id": "40916d5a",
   "metadata": {},
   "outputs": [
    {
     "name": "stdout",
     "output_type": "stream",
     "text": [
      "     ┌───┐┌─────┐┌─────┐┌───────┐┌───┐┌─┐\n",
      "q_0: ┤ H ├┤0    ├┤0    ├┤ Rz(1) ├┤ H ├┤M├\n",
      "     └───┘│     ││     │└───────┘└───┘└╥┘\n",
      "q_1: ─────┤1    ├┤1    ├───────────────╫─\n",
      "          │     ││     │               ║ \n",
      "q_2: ─────┤2 cU ├┤2 cU ├───────────────╫─\n",
      "          │     ││     │               ║ \n",
      "q_3: ─────┤3    ├┤3    ├───────────────╫─\n",
      "          │     ││     │               ║ \n",
      "q_4: ─────┤4    ├┤4    ├───────────────╫─\n",
      "          └─────┘└─────┘               ║ \n",
      "c: 1/══════════════════════════════════╩═\n",
      "                                       0 \n"
     ]
    },
    {
     "data": {
      "text/plain": [
       "{'1': 1, '0': 9}"
      ]
     },
     "execution_count": 36,
     "metadata": {},
     "output_type": "execute_result"
    }
   ],
   "source": [
    "qiskit_circuit_big_U(2, 1.)"
   ]
  },
  {
   "cell_type": "code",
   "execution_count": 43,
   "id": "c2aa27fc",
   "metadata": {},
   "outputs": [
    {
     "name": "stdout",
     "output_type": "stream",
     "text": [
      "Eigenvalues: [1.        -2.10942375e-15j 1.        -3.08086889e-15j\n",
      " 1.        -7.74580024e-17j 1.        -1.73472348e-16j\n",
      " 1.        -1.86482774e-16j 1.        +1.11022302e-16j\n",
      " 1.        -3.05311332e-16j 0.70710678-7.07106781e-01j\n",
      " 0.70710678+7.07106781e-01j 0.4539905 +8.91006524e-01j\n",
      " 0.4539905 -8.91006524e-01j 0.95105652-3.09016994e-01j\n",
      " 0.95105652+3.09016994e-01j 1.        -9.36750677e-17j\n",
      " 1.        -1.85615412e-16j 1.        -3.06937635e-16j\n",
      " 1.        -1.60353501e-16j 1.        -3.21964677e-15j\n",
      " 1.        -2.08166817e-15j 1.        -5.55111512e-17j\n",
      " 1.        -2.64718802e-15j 1.        -2.08513762e-15j\n",
      " 1.        -9.02056208e-17j 1.        -2.77555756e-15j\n",
      " 1.        -2.49800181e-16j 1.        -3.01841885e-15j\n",
      " 1.        -1.84921523e-15j 1.        -1.38777878e-17j\n",
      " 1.        -2.33146835e-15j 1.        -1.94289029e-16j\n",
      " 1.        -1.11022302e-16j 1.        -5.55111512e-17j]\n",
      "Eigenvectors: [[ 7.32130177e-01+0.00000000e+00j  6.93163548e-01-5.89489014e-02j\n",
      "   8.03832179e-03+5.28972849e-03j ...  6.02229398e-09-1.48100637e-08j\n",
      "  -9.79443039e-09+1.28667183e-09j -5.92089903e-08-2.69165496e-08j]\n",
      " [-0.00000000e+00+0.00000000e+00j  0.00000000e+00+0.00000000e+00j\n",
      "   9.98880404e-01+0.00000000e+00j ... -1.72245191e-07-1.47970255e-06j\n",
      "  -7.52576980e-07+6.55495449e-07j -6.75256700e-06-1.73980417e-07j]\n",
      " [-0.00000000e+00+0.00000000e+00j  0.00000000e+00+0.00000000e+00j\n",
      "   0.00000000e+00+0.00000000e+00j ...  7.21032188e-04-8.98768183e-03j\n",
      "   1.12083860e-02+1.09911850e-02j  7.39975108e-03+1.35097188e-02j]\n",
      " ...\n",
      " [-0.00000000e+00+0.00000000e+00j  0.00000000e+00+0.00000000e+00j\n",
      "   0.00000000e+00+0.00000000e+00j ...  6.38588679e-01+0.00000000e+00j\n",
      "   7.47459445e-01+0.00000000e+00j -4.88374988e-02-6.96821977e-04j]\n",
      " [-0.00000000e+00+0.00000000e+00j  0.00000000e+00+0.00000000e+00j\n",
      "   0.00000000e+00+0.00000000e+00j ... -1.37488224e-02-3.17873026e-02j\n",
      "  -6.79859070e-03-9.16130378e-03j  1.33418134e-02-6.64473588e-03j]\n",
      " [-0.00000000e+00+0.00000000e+00j  0.00000000e+00+0.00000000e+00j\n",
      "   0.00000000e+00+0.00000000e+00j ...  1.06759920e-01-7.96640136e-02j\n",
      "   5.78793418e-02-4.39541806e-02j  8.93667366e-01+0.00000000e+00j]]\n"
     ]
    }
   ],
   "source": [
    "from qiskit import QuantumCircuit, Aer, transpile\n",
    "from qiskit.quantum_info import Operator\n",
    "import numpy as np\n",
    "\n",
    "# Use Aer's unitary simulator to simulate the circuit\n",
    "backend = Aer.get_backend('unitary_simulator')\n",
    "job = backend.run(transpile(cU, backend))\n",
    "unitary = job.result().get_unitary(cU)\n",
    "\n",
    "# Compute eigenvalues and eigenvectors\n",
    "eigenvalues, eigenvectors = np.linalg.eig(unitary)\n",
    "\n",
    "print(\"Eigenvalues:\", eigenvalues)\n",
    "print(\"Eigenvectors:\", eigenvectors)\n",
    "\n"
   ]
  },
  {
   "cell_type": "code",
   "execution_count": 44,
   "id": "ed83cc46",
   "metadata": {},
   "outputs": [],
   "source": [
    "def vec_to_dirac(vector, threshold=1e-6):\n",
    "    \"\"\"\n",
    "    Converts a vector representing a quantum state into Dirac notation.\n",
    "\n",
    "    Parameters:\n",
    "    - vector: numpy array, the vector to be converted.\n",
    "    - threshold: float, the minimum absolute value for coefficients to be included.\n",
    "\n",
    "    Returns:\n",
    "    - A string representing the vector in Dirac notation.\n",
    "    \"\"\"\n",
    "    # Determine the number of qubits from the vector length\n",
    "    num_qubits = int(np.log2(len(vector)))\n",
    "    dirac_notation = \"\"\n",
    "    \n",
    "    for i, amplitude in enumerate(vector):\n",
    "        # Skip amplitudes below the threshold\n",
    "        if np.abs(amplitude) > threshold:\n",
    "            # Convert the index to binary and format it as a basis state\n",
    "            basis_state = format(i, f'0{num_qubits}b')\n",
    "            # Add the term to the Dirac notation string\n",
    "            amplitude_str = f\"{amplitude:.2f}\" if np.imag(amplitude) == 0 else f\"({amplitude:.2f})\"\n",
    "            dirac_notation += f\"{amplitude_str}|{basis_state}> + \"\n",
    "    \n",
    "    # Remove the last ' + ' if the string is not empty\n",
    "    if dirac_notation:\n",
    "        dirac_notation = dirac_notation[:-3]\n",
    "    \n",
    "    return dirac_notation\n"
   ]
  },
  {
   "cell_type": "code",
   "execution_count": 48,
   "id": "2bfc7fe3",
   "metadata": {},
   "outputs": [
    {
     "name": "stdout",
     "output_type": "stream",
     "text": [
      "0.73+0.00j|00000> + (0.69-0.06j)|00001>\n",
      "1.00+0.00j|00010> + (-0.06-0.01j)|00011> + (-0.13+0.01j)|00100> + (-0.01-0.01j)|00101> + (0.01+0.01j)|00110>\n",
      "(-0.01+0.01j)|10001> + (0.02-0.01j)|10010> + (0.02-0.05j)|10011> + (-0.15-0.21j)|10100> + (-0.14+0.12j)|10101> + (0.00-0.09j)|10110> + (-0.52+0.12j)|10111> + (-0.06+0.02j)|11000> + (-0.50-0.10j)|11001> + (0.33-0.23j)|11010> + (-0.02-0.06j)|11011> + (0.16-0.27j)|11100> + (0.01+0.01j)|11110> + (0.01+0.01j)|11111>\n",
      "0.71+0.00j|00011> + 0.87+0.00j|00100> + (0.11+0.01j)|00101> + (0.04-0.16j)|00110> + (0.03-0.01j)|01101>\n",
      "(-0.00+0.03j)|10001> + (0.03-0.05j)|10010> + 0.60+0.00j|10100> + (0.40+0.28j)|10101> + (0.01+0.08j)|10110> + (-0.39-0.15j)|10111> + (-0.01+0.13j)|11000> + (-0.28-0.06j)|11001> + (0.10-0.05j)|11010> + (-0.05-0.05j)|11011> + (0.01+0.13j)|11100> + (-0.01-0.04j)|11101> + (-0.05+0.02j)|11110> + (0.03-0.01j)|11111>\n",
      "(-0.47+0.01j)|00101> + 0.76+0.00j|00110> + (0.13-0.17j)|01101> + (-0.02+0.01j)|01110>\n",
      "(0.71-0.00j)|00111> + (-0.71+0.00j)|01000>\n",
      "(-0.18-0.36j)|01101> + 0.94+0.00j|01110> + (-0.06+0.03j)|01111> + (0.03+0.06j)|10000>\n",
      "(-0.04-0.01j)|10000> + 0.72+0.00j|10001> + 0.76+0.00j|10010> + (-0.01-0.04j)|10011> + (-0.03-0.04j)|10100> + (0.05-0.14j)|10101> + (-0.02+0.16j)|10111> + (-0.02+0.00j)|11000> + (-0.05-0.15j)|11001> + (0.02-0.03j)|11010> + (-0.00-0.02j)|11011> + (-0.01-0.19j)|11100> + (-0.01-0.01j)|11110>\n",
      "(0.01-0.00j)|10011> + (0.01-0.06j)|10100> + (-0.06+0.23j)|10101> + (0.56-0.35j)|10110> + (0.06-0.02j)|10111> + (-0.53-0.21j)|11000> + (-0.13-0.00j)|11001> + (-0.14-0.12j)|11010> + (0.15-0.17j)|11011> + (-0.11+0.01j)|11100> + (0.17+0.05j)|11101> + (-0.07+0.20j)|11110> + (-0.02+0.09j)|11111>\n",
      "(-0.71+0.00j)|01001> + (0.71+0.00j)|01010>\n",
      "(-0.01+0.00j)|01101> + (-0.07-0.15j)|01111> + 0.80+0.00j|10000> + (-0.01-0.05j)|10001> + (-0.02-0.05j)|10010> + (0.03+0.08j)|10011> + (0.01+0.02j)|10100> + (-0.02-0.01j)|10101> + (-0.01+0.04j)|10110> + (0.02+0.01j)|10111> + (0.00+0.03j)|11000> + (-0.01-0.01j)|11001> + (-0.01-0.00j)|11011> + (-0.02-0.01j)|11100> + (-0.01+0.01j)|11110>\n",
      "0.71+0.00j|01011> + 0.71+0.00j|01100>\n",
      "(0.01-0.01j)|10011> + (-0.01-0.07j)|10100> + (0.03+0.04j)|10101> + 0.70+0.00j|10110> + (-0.04+0.01j)|10111> + 0.70+0.00j|11000> + (0.04+0.08j)|11001> + (-0.02+0.09j)|11010> + (-0.11+0.01j)|11011> + (0.07+0.01j)|11100> + (-0.24-0.06j)|11101> + (0.08+0.29j)|11110> + (-0.09-0.14j)|11111>\n",
      "(-0.00-0.05j)|10000> + (0.06+0.15j)|10001> + (-0.15+0.06j)|10010> + (0.05+0.05j)|10011> + (0.13-0.27j)|10100> + (-0.28-0.16j)|10101> + (-0.05+0.08j)|10110> + 0.60+0.00j|10111> + (-0.03+0.07j)|11000> + (-0.46-0.04j)|11001> + (-0.06+0.09j)|11010> + (-0.04-0.03j)|11011> + (-0.62-0.01j)|11100> + (0.01-0.02j)|11101> + (-0.05-0.01j)|11110> + (0.02+0.00j)|11111>\n",
      "(0.00-0.01j)|10100> + (0.02+0.01j)|10101> + (0.11+0.02j)|10110> + (0.01-0.01j)|10111> + (0.14-0.03j)|11000> + (-0.01-0.01j)|11010> + (-0.09+0.15j)|11011> + (-0.04-0.03j)|11100> + (-0.32+0.44j)|11101> + (-0.31-0.44j)|11110> + (-0.01-0.39j)|11111>\n",
      "(-0.68+0.09j)|00000> + 0.72+0.00j|00001> + (-0.05-0.00j)|00010>\n",
      "(0.04+0.70j)|00011> + (-0.03-0.48j)|00100> + (0.04-0.05j)|00101> + (-0.07-0.00j)|00110> + (-0.00-0.01j)|01101>\n",
      "(0.00-0.01j)|10010> + (-0.01-0.03j)|10011> + (0.26+0.41j)|10100> + (-0.30-0.19j)|10101> + (0.01-0.01j)|10110> + (0.32-0.02j)|10111> + (0.12+0.12j)|11000> + 0.51+0.00j|11001> + 0.73+0.00j|11010> + (-0.12-0.02j)|11011> + (0.02-0.11j)|11100> + (-0.06-0.04j)|11101> + (0.01+0.05j)|11110> + (0.01-0.03j)|11111>\n",
      "0.87+0.00j|00101> + (0.33+0.53j)|00110> + (0.12+0.12j)|01101>\n",
      "(0.00-0.02j)|10010> + (-0.03-0.03j)|10011> + (-0.37+0.02j)|10100> + 0.62+0.00j|10101> + (0.01+0.04j)|10110> + (0.05-0.13j)|10111> + (0.12+0.01j)|11000> + (0.13-0.11j)|11001> + (0.45-0.00j)|11010> + (-0.04+0.03j)|11011> + (0.05+0.12j)|11100> + (-0.04+0.00j)|11101> + (0.01+0.01j)|11110> + (-0.00-0.02j)|11111>\n",
      "0.87+0.00j|01101> + (-0.12-0.31j)|01110> + (0.04-0.03j)|01111> + (0.02-0.03j)|10000> + (0.01+0.01j)|10011>\n",
      "0.71+0.00j|00111> + 0.71+0.00j|01000>\n",
      "(0.02-0.08j)|01101> + (0.02-0.02j)|01110> + 0.98+0.00j|01111> + (0.18-0.56j)|10000> + (-0.04+0.05j)|10011> + (-0.03+0.01j)|10110> + (-0.02+0.01j)|11000>\n",
      "(0.01-0.01j)|01111> + (0.05-0.01j)|10000> + (-0.66+0.10j)|10001> + (0.59+0.18j)|10010> + (0.00-0.04j)|10011> + (0.01-0.17j)|10100> + (0.05-0.06j)|10101> + (0.01+0.03j)|10110> + (-0.05-0.03j)|10111> + (0.01+0.02j)|11000> + (0.03+0.16j)|11001> + (0.04+0.00j)|11010> + (-0.02-0.01j)|11011> + (0.09-0.02j)|11100> + (-0.01-0.00j)|11110>\n",
      "(-0.02-0.02j)|10101> + (0.05-0.02j)|10110> + (0.00+0.02j)|10111> + (0.01-0.21j)|11000> + (0.00-0.01j)|11010> + 0.90+0.00j|11011> + (-0.03+0.00j)|11100> + (-0.23+0.34j)|11101> + (0.05-0.06j)|11110> + (-0.07-0.04j)|11111>\n",
      "0.71+0.00j|01001> + 0.71+0.00j|01010>\n",
      "(0.02-0.00j)|10000> + (-0.05-0.00j)|10001> + (-0.09-0.02j)|10010> + 0.99+0.00j|10011> + (0.01-0.02j)|10100> + (-0.02+0.06j)|10101> + (0.10+0.14j)|10110> + (0.01-0.02j)|10111> + (0.05-0.08j)|11000> + (-0.00-0.01j)|11001> + (-0.02-0.05j)|11010> + (0.04+0.01j)|11011> + (-0.03-0.00j)|11100> + (0.01+0.01j)|11101> + (0.05+0.01j)|11110> + (-0.01-0.01j)|11111>\n",
      "(0.71+0.00j)|01011> + (-0.71+0.00j)|01100>\n",
      "(-0.01-0.02j)|10101> + (0.05-0.01j)|10110> + (-0.01+0.02j)|10111> + (0.11-0.14j)|11000> + (0.02-0.00j)|11001> + (0.02-0.02j)|11010> + (0.09+0.21j)|11011> + (-0.02-0.01j)|11100> + 0.64+0.00j|11101> + 0.75+0.00j|11110> + (-0.05-0.00j)|11111>\n",
      "(-0.00+0.05j)|10001> + (0.05-0.09j)|10010> + (0.16-0.22j)|10100> + (0.04+0.13j)|10101> + (-0.01+0.06j)|10110> + (0.16-0.01j)|10111> + (0.02+0.06j)|11000> + (-0.27+0.10j)|11001> + (-0.07-0.14j)|11010> + (0.07-0.04j)|11011> + 0.63+0.00j|11100> + (-0.01-0.03j)|11101> + (-0.01-0.01j)|11110> + (0.01-0.01j)|11111>\n",
      "(0.02-0.03j)|11000> + (0.06+0.02j)|11011> + (0.11-0.08j)|11101> + (0.06-0.04j)|11110> + 0.89+0.00j|11111>\n"
     ]
    }
   ],
   "source": [
    "for eigenvector in eigenvectors:\n",
    "    print(vec_to_dirac(eigenvector, threshold=1e-2))"
   ]
  },
  {
   "cell_type": "code",
   "execution_count": 52,
   "id": "e5ce6ecd",
   "metadata": {},
   "outputs": [
    {
     "data": {
      "text/plain": [
       "array([-2.10942375e-15, -3.08086889e-15, -7.74580024e-17, -1.73472348e-16,\n",
       "       -1.86482774e-16,  1.11022302e-16, -3.05311332e-16, -7.85398163e-01,\n",
       "        7.85398163e-01,  1.09955743e+00, -1.09955743e+00, -3.14159265e-01,\n",
       "        3.14159265e-01, -9.36750677e-17, -1.85615412e-16, -3.06937635e-16,\n",
       "       -1.60353501e-16, -3.21964677e-15, -2.08166817e-15, -5.55111512e-17,\n",
       "       -2.64718802e-15, -2.08513762e-15, -9.02056208e-17, -2.77555756e-15,\n",
       "       -2.49800181e-16, -3.01841885e-15, -1.84921523e-15, -1.38777878e-17,\n",
       "       -2.33146835e-15, -1.94289029e-16, -1.11022302e-16, -5.55111512e-17])"
      ]
     },
     "execution_count": 52,
     "metadata": {},
     "output_type": "execute_result"
    }
   ],
   "source": [
    "phases = np.angle(eigenvalues)\n",
    "phases"
   ]
  },
  {
   "cell_type": "code",
   "execution_count": 53,
   "id": "229d600b",
   "metadata": {},
   "outputs": [
    {
     "data": {
      "text/plain": [
       "array([ 0.        ,  0.        ,  0.        ,  0.        ,  0.        ,\n",
       "        0.        ,  0.        , -0.78539816,  0.78539816,  1.09955743,\n",
       "       -1.09955743, -0.31415927,  0.31415927,  0.        ,  0.        ,\n",
       "        0.        ,  0.        ,  0.        ,  0.        ,  0.        ,\n",
       "        0.        ,  0.        ,  0.        ,  0.        ,  0.        ,\n",
       "        0.        ,  0.        ,  0.        ,  0.        ,  0.        ,\n",
       "        0.        ,  0.        ])"
      ]
     },
     "execution_count": 53,
     "metadata": {},
     "output_type": "execute_result"
    }
   ],
   "source": [
    "\n",
    "\n",
    "# Threshold for rounding small angles to zero\n",
    "threshold = 1e-6\n",
    "\n",
    "# Round small angles to zero\n",
    "phases_rounded = np.where(np.abs(phases) < threshold, 0, phases)\n",
    "\n",
    "# Compute the eigenvalues of the Hamiltonian with rounded phases\n",
    "hamiltonian_eigenvalues_rounded = phases_rounded\n",
    "\n",
    "hamiltonian_eigenvalues_rounded\n"
   ]
  },
  {
   "cell_type": "code",
   "execution_count": null,
   "id": "d9b92950",
   "metadata": {},
   "outputs": [],
   "source": []
  }
 ],
 "metadata": {
  "kernelspec": {
   "display_name": "Python 3 (ipykernel)",
   "language": "python",
   "name": "python3"
  },
  "language_info": {
   "codemirror_mode": {
    "name": "ipython",
    "version": 3
   },
   "file_extension": ".py",
   "mimetype": "text/x-python",
   "name": "python",
   "nbconvert_exporter": "python",
   "pygments_lexer": "ipython3",
   "version": "3.10.10"
  }
 },
 "nbformat": 4,
 "nbformat_minor": 5
}
